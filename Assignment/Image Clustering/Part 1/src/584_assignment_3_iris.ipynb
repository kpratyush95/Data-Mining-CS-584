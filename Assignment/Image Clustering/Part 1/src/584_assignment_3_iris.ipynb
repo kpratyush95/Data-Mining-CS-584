{
  "nbformat": 4,
  "nbformat_minor": 0,
  "metadata": {
    "colab": {
      "name": "584_assignment_3a",
      "provenance": [],
      "collapsed_sections": []
    },
    "kernelspec": {
      "name": "python3",
      "display_name": "Python 3"
    }
  },
  "cells": [
    {
      "cell_type": "code",
      "metadata": {
        "id": "a-Z7OIpj3-L6"
      },
      "source": [
        "#Import Statements\n",
        "import pandas as pd\n",
        "import numpy as np\n",
        "from sklearn.metrics import  silhouette_score\n",
        "import matplotlib.pyplot as plt\n",
        "from sklearn.decomposition import PCA\n",
        "from sklearn.manifold import TSNE\n",
        "#import pdb"
      ],
      "execution_count": 1,
      "outputs": []
    },
    {
      "cell_type": "code",
      "metadata": {
        "id": "FXwg7PBf6_6o"
      },
      "source": [
        "#Loading the dataset\n",
        "dataset = pd.read_csv('./Test_file.txt', sep= ' ', header= None)"
      ],
      "execution_count": 3,
      "outputs": []
    },
    {
      "cell_type": "code",
      "metadata": {
        "id": "-0i1QF3MVPR7"
      },
      "source": [
        "#Normalising the data so that it lies in the range of [0-1]\n",
        "def normalized(A):\n",
        "    A = (A- np.min(A))/ (np.max(A) - np.min(A))\n",
        "    return A"
      ],
      "execution_count": 4,
      "outputs": []
    },
    {
      "cell_type": "code",
      "metadata": {
        "id": "9CPj0-xL7XNx",
        "outputId": "036b2957-1d68-4662-d2f6-e05f23eab7f9",
        "colab": {
          "base_uri": "https://localhost:8080/",
          "height": 134
        }
      },
      "source": [
        "#Converting the data,a pandas dataframe, to n-dimensional numpy array\n",
        "np_dataset = normalized(dataset).to_numpy(copy= True)\n",
        "# np_dataset = (dataset).to_numpy(copy= True)\n",
        "tsne = TSNE(n_components=2, verbose=1, perplexity=15, n_iter=300)\n",
        "np_dataset = tsne.fit_transform(np_dataset)"
      ],
      "execution_count": 5,
      "outputs": [
        {
          "output_type": "stream",
          "text": [
            "[t-SNE] Computing 46 nearest neighbors...\n",
            "[t-SNE] Indexed 150 samples in 0.002s...\n",
            "[t-SNE] Computed neighbors for 150 samples in 0.003s...\n",
            "[t-SNE] Computed conditional probabilities for sample 150 / 150\n",
            "[t-SNE] Mean sigma: 0.102844\n",
            "[t-SNE] KL divergence after 250 iterations with early exaggeration: 55.798584\n",
            "[t-SNE] KL divergence after 300 iterations: 0.290152\n"
          ],
          "name": "stdout"
        }
      ]
    },
    {
      "cell_type": "code",
      "metadata": {
        "id": "Zpe62O247que"
      },
      "source": [
        "# Randomly choosing the K-centroids (in this case 3)  \n",
        "initial_centroids = np_dataset[np.random.choice(np_dataset.shape[0], size = 3, replace= False)]"
      ],
      "execution_count": 14,
      "outputs": []
    },
    {
      "cell_type": "code",
      "metadata": {
        "id": "7iziA3c286tx"
      },
      "source": [
        "'''\n",
        "Cluster Assignment Fuction\n",
        "Parameters: \n",
        "        data : n-dimensional Numpy array\n",
        "        Centroids : K-dimensional Numpy array \n",
        "        K: Default value is 3, splits the data in to k clusters\n",
        "Returns the cluster assignment of each row\n",
        "\n",
        "In this fuction for each row we calculate its distance from each of the centroids and assign it to the centroid which it is closest to\n",
        "To calculate the distance i've used np.linalg.norm (which is same as Euclidian distance)  \n",
        "'''\n",
        "def Cluster_Assignment(data, centroids, k =3):\n",
        "  cluster_assignments = np.empty(len(dataset))\n",
        "  for i in range(len(data)):\n",
        "    min_distance = np.Inf\n",
        "    for cluster in range(k):\n",
        "      distance = np.linalg.norm(data[i]-centroids[cluster])\n",
        "      if distance < min_distance:\n",
        "        min_distance = distance\n",
        "        cluster_assignments[i] = cluster\n",
        "  return cluster_assignments"
      ],
      "execution_count": 15,
      "outputs": []
    },
    {
      "cell_type": "code",
      "metadata": {
        "id": "qppSDZNpR9GH"
      },
      "source": [
        "'''\n",
        "Move_Centroid Function:\n",
        "  Parameters: \n",
        "        data : n-dimensional Numpy array\n",
        "        Centroids : K-dimensional Numpy array \n",
        "        K: Default value is 3, splits the data in to k clusters\n",
        "        Attributes: Number of Features in the dataset\n",
        "        Instances: # rows in the dataset\n",
        "        cluster_assignments : The current cluster assignment of each data point in the dataset.\n",
        "  Take the average of the all datapoints in the cluster. This average will be new centroids.\n",
        "  Returns the previous centroids and the current centroids  \n",
        "'''\n",
        "def Move_Centroid(centroids,attributes, instances, cluster_assignments, data, k=3):\n",
        "  previous_centroids = centroids.copy()\n",
        "  #current_centroids = np.empty(initial_centroids.shape)\n",
        "  for cluster in range(k):\n",
        "    for column in range(attributes):\n",
        "      sum = 0.0\n",
        "      count = 0.0\n",
        "      average =None\n",
        "      for row in range(instances):\n",
        "        if(cluster == cluster_assignments[row]):\n",
        "          sum += data[row, column]\n",
        "          count+=1\n",
        "          if count >0:\n",
        "            average = sum/ count\n",
        "        centroids[cluster, column] = average\n",
        "  return previous_centroids, centroids"
      ],
      "execution_count": 16,
      "outputs": []
    },
    {
      "cell_type": "code",
      "metadata": {
        "id": "C3xh_eilYcqW"
      },
      "source": [
        "attributes = np_dataset.shape[1]\n",
        "instances = len(dataset)\n",
        "centroids_changed = False\n",
        "current_centroids = np.empty(initial_centroids.shape)\n",
        "previous_centroids = initial_centroids\n",
        "# Randomly choosing the K-centroids (in this case 3) \n",
        "Initial_cluster_assignments = Cluster_Assignment(np_dataset, initial_centroids,3)\n",
        "previous_cluster_assignment = Initial_cluster_assignments\n",
        "new_cluster_assignment = np.empty(Initial_cluster_assignments.shape)\n",
        "max_iterations = 100\n",
        "score = 0.0\n",
        "while max_iterations > 0 and (not(centroids_changed)):\n",
        "  previous_centroids, current_centroids = Move_Centroid(initial_centroids,attributes, instances,Initial_cluster_assignments, np_dataset,3)\n",
        "  centroids_changed = (np.array_equal(previous_centroids,current_centroids) and score> 0.25)\n",
        "  new_cluster_assignment=Cluster_Assignment(np_dataset, current_centroids, k =3)\n",
        "  score = silhouette_score(np_dataset, new_cluster_assignment)\n",
        "  previous_cluster_assignment = new_cluster_assignment\n",
        "  max_iterations -=1\n",
        "  "
      ],
      "execution_count": 17,
      "outputs": []
    },
    {
      "cell_type": "code",
      "metadata": {
        "id": "PzsqUnNlzOWE",
        "outputId": "a287ced0-8c12-47ef-cd63-e1599d9f7418",
        "colab": {
          "base_uri": "https://localhost:8080/",
          "height": 67
        }
      },
      "source": [
        "print(current_centroids)"
      ],
      "execution_count": 18,
      "outputs": [
        {
          "output_type": "stream",
          "text": [
            "[[ 14.213359    -0.16338117]\n",
            " [ -8.535055    13.484301  ]\n",
            " [ -2.1453426  -13.505117  ]]\n"
          ],
          "name": "stdout"
        }
      ]
    },
    {
      "cell_type": "code",
      "metadata": {
        "id": "WlWvdYfebjRE"
      },
      "source": [
        "a_file = open(\"output.txt\", \"w\")\n",
        "for label in new_cluster_assignment:\n",
        "    # np.savetxt(a_file, row)\n",
        "    a_file.write(str(int(label))+\"\\n\")\n",
        "\n",
        "a_file.close()"
      ],
      "execution_count": 19,
      "outputs": []
    },
    {
      "cell_type": "code",
      "metadata": {
        "id": "Cyf9kHM-n1sl",
        "outputId": "36ac4c17-7d0d-445c-bb19-d9117746de74",
        "colab": {
          "base_uri": "https://localhost:8080/",
          "height": 282
        }
      },
      "source": [
        "plt.scatter(np_dataset[ new_cluster_assignment== 0, 0], np_dataset[new_cluster_assignment == 0, 1], s = 100, c = 'red')\n",
        "plt.scatter(np_dataset[new_cluster_assignment == 1, 0], np_dataset[new_cluster_assignment == 1, 1], s = 100, c = 'blue')\n",
        "plt.scatter(np_dataset[new_cluster_assignment == 2, 0], np_dataset[new_cluster_assignment == 2, 1], s = 100, c = 'green')\n",
        "plt.scatter(current_centroids[:, 0], current_centroids[:,1], s = 100, c = 'yellow', label = 'Centroids')\n",
        "plt.legend()"
      ],
      "execution_count": 20,
      "outputs": [
        {
          "output_type": "execute_result",
          "data": {
            "text/plain": [
              "<matplotlib.legend.Legend at 0x7f63f924ae10>"
            ]
          },
          "metadata": {
            "tags": []
          },
          "execution_count": 20
        },
        {
          "output_type": "display_data",
          "data": {
            "image/png": "[encoded data removed]",
            "text/plain": [
              "<Figure size 432x288 with 1 Axes>"
            ]
          },
          "metadata": {
            "tags": [],
            "needs_background": "light"
          }
        }
      ]
    },
    {
      "cell_type": "code",
      "metadata": {
        "id": "_w9S3Mo-y3kq"
      },
      "source": [
        ""
      ],
      "execution_count": 21,
      "outputs": []
    }
  ]
}
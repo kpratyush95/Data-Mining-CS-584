{
  "nbformat": 4,
  "nbformat_minor": 0,
  "metadata": {
    "colab": {
      "name": "HW4.ipynb",
      "provenance": [],
      "collapsed_sections": [],
      "machine_shape": "hm"
    },
    "kernelspec": {
      "name": "python3",
      "display_name": "Python 3"
    }
  },
  "cells": [
    {
      "cell_type": "markdown",
      "metadata": {
        "id": "okghXO4vPkjQ"
      },
      "source": [
        "## Import Libraries"
      ]
    },
    {
      "cell_type": "code",
      "metadata": {
        "id": "ipDdHebfmgRf"
      },
      "source": [
        "import pandas as pd\n",
        "import numpy as np\n",
        "from scipy.stats import pearsonr\n",
        "from sklearn.metrics.pairwise import euclidean_distances, cosine_similarity, cosine_distances\n",
        "import functools, operator\n",
        "import pdb\n",
        "from sklearn.feature_extraction.text import TfidfVectorizer\n",
        "import math"
      ],
      "execution_count": 57,
      "outputs": []
    },
    {
      "cell_type": "markdown",
      "metadata": {
        "id": "Eb_bZ2TPRH0v"
      },
      "source": [
        "## Create Dataframes of Inputs"
      ]
    },
    {
      "cell_type": "code",
      "metadata": {
        "id": "yG1SZ9hWmqvf"
      },
      "source": [
        "def create_input_dataframe(input_file):\n",
        "  return pd.read_table(input_file, sep='\\s+',usecols=open(input_file,'rb').readlines()[0].strip().split().reverse())\n",
        "\n",
        "def create_input_dataframe_movie_actors_a(input_file):\n",
        "  retlist = []\n",
        "  with open(input_file, 'rb') as f:\n",
        "    lines = f.readlines()\n",
        "    for line in lines:\n",
        "      line = line.decode(errors='replace').strip()\n",
        "      line = line.split(\"\\t\")\n",
        "      retlist.append(line)\n",
        "    header = retlist[0]\n",
        "    retlist = retlist[1:]\n",
        "    return pd.DataFrame(retlist, columns=header)\n",
        "\n",
        "def create_input_dataframe_movie_actors(input_file):\n",
        "  retlist = []\n",
        "  with open(input_file, 'rb') as f:\n",
        "    lines = f.readlines()\n",
        "    for line in lines:\n",
        "      line = line.decode(errors='replace')\n",
        "      line = line.strip()\n",
        "      newline = [line.split('\\t')[i] for i in range(len(line.split('\\t'))) if i in [0, 1, len(line.split('\\t'))-1 ]]\n",
        "      retlist.append(newline)\n",
        "  header = retlist[0]\n",
        "  retlist = retlist[1:]\n",
        "  return pd.DataFrame(retlist, columns=header)\n",
        "\n",
        "def create_input_dataframe_movie_director(input_file):\n",
        "  retlist = []\n",
        "  with open(input_file, 'rb') as f:\n",
        "    lines = f.readlines()\n",
        "    for line in lines:\n",
        "      line = line.decode(errors='replace')\n",
        "      line = line.strip()\n",
        "      newline = [line.split('\\t')[i] for i in range(len(line.split('\\t'))) if i in [0, 1]]\n",
        "      retlist.append(newline)\n",
        "  header = retlist[0]\n",
        "  retlist = retlist[1:]\n",
        "  # return pd.DataFrame(retlist, columns=header)\n",
        "\n",
        "def create_input_dataframe_tags(input_file):\n",
        "  retlist = []\n",
        "  with open(input_file, 'rb') as f:\n",
        "    lines = f.readlines()\n",
        "    for line in lines:\n",
        "      line = line.decode(errors='replace')\n",
        "      line = line.strip()\n",
        "      newline = line.split('\\t')\n",
        "      retlist.append(newline)\n",
        "  header = retlist[0]\n",
        "  retlist = retlist[1:]\n",
        "  return pd.DataFrame(retlist, columns=header)"
      ],
      "execution_count": 58,
      "outputs": []
    },
    {
      "cell_type": "code",
      "metadata": {
        "id": "Qmu4v6gMnaE1"
      },
      "source": [
        "train_df = create_input_dataframe('HW4_data/train.dat')\n",
        "test_df = create_input_dataframe('HW4_data/test.dat')\n",
        "movie_actors_df = create_input_dataframe_movie_actors_a('HW4_data/movie_actors.dat')\n",
        "movie_directors_df = create_input_dataframe_movie_actors_a('HW4_data/movie_directors.dat')\n",
        "movie_genres_df = create_input_dataframe('HW4_data/movie_genres.dat')\n",
        "movie_tags_df = create_input_dataframe('HW4_data/movie_tags.dat')\n",
        "user_taggedmovies_df = create_input_dataframe('HW4_data/user_taggedmovies.dat')\n",
        "tags_df = create_input_dataframe_movie_actors_a('HW4_data/tags.dat')"
      ],
      "execution_count": 59,
      "outputs": []
    },
    {
      "cell_type": "markdown",
      "metadata": {
        "id": "uEGVmojEShq-"
      },
      "source": [
        "## User Based Collaborative Filering\n",
        "### Find 100 other users with the same values as the current user\n",
        "### Amongst the 100 get 10 closest to the current user and then get average for the \n",
        "\n",
        "1. Create the User - Item matrix <br>\n",
        "rows - users\n",
        "columns - movies the user has seen\n",
        "\n",
        "2. In the test data get the k nearest training samples which are closest to the test user and get an average of the rating.\n",
        "\n",
        "Another way\n",
        "get the test user\n",
        "get the test movie \n",
        "know how many movies users has seen and then create a word matrix \n"
      ]
    },
    {
      "cell_type": "code",
      "metadata": {
        "id": "jtwXTgr0nAzm"
      },
      "source": [
        "def create_user_item_matrix_with_train(source, train_df):\n",
        "  # source is list of items \n",
        "  # we can fill in the future \n",
        "  if source != None:\n",
        "    return\n",
        "  matrix = dict()\n",
        "  keys_val = matrix.keys()\n",
        "  train_df_val = train_df.values.tolist()\n",
        "  for record in train_df_val:\n",
        "    if record[0] not in keys_val:\n",
        "      user_id = int(record[0])\n",
        "      matrix[user_id] = ([],[])\n",
        "    matrix[user_id][0].append(record[1])\n",
        "    matrix[user_id][1].append(record[2])\n",
        "  return matrix"
      ],
      "execution_count": 60,
      "outputs": []
    },
    {
      "cell_type": "code",
      "metadata": {
        "id": "UTfx7FWbrjxu"
      },
      "source": [
        "def get_user_item_matrix(train_df):\n",
        "  matrix = []\n",
        "  movies = [movie for movie in set(train_df['movieID'])]\n",
        "  movies.sort()\n",
        "  users = [user for user in set(train_df['userID'])]\n",
        "  users.sort()\n",
        "  count = 0\n",
        "  user_id = train_df.values.tolist()[0][0]\n",
        "  user_movies = [0]*len(movies)\n",
        "  \n",
        "  for record in train_df.values.tolist():\n",
        "    if user_id != record[0]:\n",
        "      matrix.append(user_movies)\n",
        "      user_id = record[0]\n",
        "      user_movies = [0]*len(movies)\n",
        "    user_movies[movies.index(int(record[1]))] = record[2]\n",
        "  \n",
        "  indices = {i:users[i] for i in range(len(users))}\n",
        "  return pd.DataFrame(matrix, columns=movies).rename(index=indices)"
      ],
      "execution_count": 61,
      "outputs": []
    },
    {
      "cell_type": "code",
      "metadata": {
        "id": "Ie1HtB5msql3"
      },
      "source": [
        "user_movie_matrix = get_user_item_matrix(train_df)"
      ],
      "execution_count": 62,
      "outputs": []
    },
    {
      "cell_type": "code",
      "metadata": {
        "id": "lS-P7uXKhcdW"
      },
      "source": [
        "# def Normalize_Ratings(user_movie_matrix):\n",
        "#   lst = []\n",
        "#   for user in  user_movie_matrix.values:\n",
        "#     tot = user.sum(axis=0)/user.astype(bool).sum(axis=0)\n",
        "#     user[user>0] -= tot\n",
        "#     lst.append(user)\n",
        "#   matrix = pd.DataFrame(lst, index = user_movie_matrix.index)\n",
        "#   matrix.columns = user_movie_matrix.columns\n",
        "#   return matrix\n",
        "# user_movie_matrix = Normalize_Ratings(user_movie_matrix)"
      ],
      "execution_count": 63,
      "outputs": []
    },
    {
      "cell_type": "code",
      "metadata": {
        "id": "-wqU_A3kOsWM"
      },
      "source": [
        "def user_based_collaborative_filter(matrix, test_movie, user_info):\n",
        "  if test_movie is None: raise Exception(\"test_movie is None\")\n",
        "  matrix_of_test_movie = matrix[matrix[test_movie]>0.0]\n",
        "  movie_col_index = list(matrix.columns).index(test_movie)\n",
        "  max_similarity = []\n",
        "  max_distance = -1\n",
        "  count = 0\n",
        "  for user in matrix_of_test_movie.values:\n",
        "    count += 1\n",
        "    # similarity_measure = euclidean_distances(np.array([user]), np.array([user_info]))\n",
        "    # similarity_measure = cosine_similarity(np.array([user]), np.array([user_info]))\n",
        "    # similarity_measure = cosine_distances(np.array([user]), np.array([user_info]))\n",
        "    similarity_measure = pearsonr(np.array(user), np.array(user_info))\n",
        "    #print(similarity_measure)\n",
        "    similarity_measure = similarity_measure[0]\n",
        "    if len(max_similarity) < 11:\n",
        "      if max_distance < similarity_measure:\n",
        "        max_distance = similarity_measure\n",
        "      max_similarity.append((user, user[movie_col_index], similarity_measure))\n",
        "    \n",
        "    else:\n",
        "      if similarity_measure < max_distance:\n",
        "        user_record = (user, user[movie_col_index], similarity_measure)\n",
        "        max_similarity = filter(lambda x : x[2] != max_distance, max_similarity)\n",
        "        max_similarity = list(max_similarity)\n",
        "        max_similarity.append(user_record)\n",
        "        max_distance = functools.reduce(lambda a,b: a if a[2] > b[2] else b, max_similarity)\n",
        "        max_distance = max_distance[2]\n",
        "  # pdb.set_trace()\n",
        "    # print('Count: ', count)\n",
        "  total = 0\n",
        "  for user in max_similarity:\n",
        "    total += user[1]\n",
        "  if len(max_similarity)>0:  \n",
        "    total = total/len(max_similarity)\n",
        "  return total"
      ],
      "execution_count": 64,
      "outputs": []
    },
    {
      "cell_type": "code",
      "metadata": {
        "id": "oGwVZ3-NqD3A"
      },
      "source": [
        "def create_actor_profile_matrix(movie_actors_df):\n",
        "    all_actors = set(movie_actors_df['actorID'])\n",
        "    all_actors = [actor for actor in all_actors]\n",
        "    all_movies = [int(movie) for movie in set(movie_actors_df['movieID'])]\n",
        "    all_movies.sort()\n",
        "    movie_id = 0\n",
        "    movie_actor = [0]*len(all_actors)\n",
        "    retlist=[]\n",
        "    for movies in movie_actors_df.values:\n",
        "        new_movie_id = movies[0]\n",
        "        if new_movie_id != movie_id:\n",
        "            print('Movie ID: ',movie_id)\n",
        "            retlist.append(np.array(movie_actor))\n",
        "            movie_actor = [0]*len(all_actors)\n",
        "            movie_id = new_movie_id\n",
        "        actor_index = all_actors.index(movies[1])\n",
        "        movie_actor[actor_index]=1\n",
        "    retlist = pd.DataFrame(retlist, columns=all_actors)\n",
        "    # movie_index = pd.DataFrame(all_movies)\n",
        "    # movie_index.columns = ['Movie_ID']\n",
        "    # retlist = pd.concat([retlist, movie_index], axis =1)\n",
        "    # retlist.set_index('Movie_ID', drop= True, inplace= True) \n",
        "    return retlist"
      ],
      "execution_count": 65,
      "outputs": []
    },
    {
      "cell_type": "code",
      "metadata": {
        "id": "He9OTtaK73Ns"
      },
      "source": [
        "def Movie_Genre(movie_genres_df):\n",
        "  #pdb.set_trace()\n",
        "  movies = [movie for movie in set(movie_genres_df['movieID'])]\n",
        "  movies.sort()\n",
        "  genres = [genre for genre in set(movie_genres_df['genre'])]\n",
        "  movie_id = 0\n",
        "  genre_cols = [0]* len(genres)\n",
        "  matrix = []\n",
        "  for movie in movie_genres_df.values:\n",
        "    new_movie_id = movie[0]\n",
        "    if new_movie_id != movie_id:\n",
        "      matrix.append(np.array(genre_cols))\n",
        "      movie_id = new_movie_id\n",
        "      genre_cols = [0]* len(genres)\n",
        "    genre_index=genres.index(movie[1])\n",
        "    genre_cols[genre_index] =1 \n",
        "  matrix = pd.DataFrame(matrix, columns=genres)\n",
        "  movie_index = pd.DataFrame(movies)\n",
        "  movie_index.columns = ['Movie_ID']\n",
        "  matrix = pd.concat([matrix, movie_index], axis =1)\n",
        "  matrix.set_index('Movie_ID', drop= True, inplace= True)\n",
        "  return matrix "
      ],
      "execution_count": 66,
      "outputs": []
    },
    {
      "cell_type": "code",
      "metadata": {
        "id": "783x454S888L",
        "outputId": "d4c07b36-781f-47e7-8293-c2255068fb15",
        "colab": {
          "base_uri": "https://localhost:8080/",
          "height": 468
        }
      },
      "source": [
        "movie_genre_matrix = Movie_Genre(movie_genres_df)\n",
        "movie_genre_matrix"
      ],
      "execution_count": 67,
      "outputs": [
        {
          "output_type": "execute_result",
          "data": {
            "text/html": [
              "<div>\n",
              "<style scoped>\n",
              "    .dataframe tbody tr th:only-of-type {\n",
              "        vertical-align: middle;\n",
              "    }\n",
              "\n",
              "    .dataframe tbody tr th {\n",
              "        vertical-align: top;\n",
              "    }\n",
              "\n",
              "    .dataframe thead th {\n",
              "        text-align: right;\n",
              "    }\n",
              "</style>\n",
              "<table border=\"1\" class=\"dataframe\">\n",
              "  <thead>\n",
              "    <tr style=\"text-align: right;\">\n",
              "      <th></th>\n",
              "      <th>Western</th>\n",
              "      <th>Comedy</th>\n",
              "      <th>Action</th>\n",
              "      <th>Thriller</th>\n",
              "      <th>Drama</th>\n",
              "      <th>Film-Noir</th>\n",
              "      <th>Children</th>\n",
              "      <th>War</th>\n",
              "      <th>Adventure</th>\n",
              "      <th>Musical</th>\n",
              "      <th>Crime</th>\n",
              "      <th>Short</th>\n",
              "      <th>Fantasy</th>\n",
              "      <th>Romance</th>\n",
              "      <th>Animation</th>\n",
              "      <th>Mystery</th>\n",
              "      <th>Sci-Fi</th>\n",
              "      <th>Documentary</th>\n",
              "      <th>Horror</th>\n",
              "      <th>IMAX</th>\n",
              "    </tr>\n",
              "    <tr>\n",
              "      <th>Movie_ID</th>\n",
              "      <th></th>\n",
              "      <th></th>\n",
              "      <th></th>\n",
              "      <th></th>\n",
              "      <th></th>\n",
              "      <th></th>\n",
              "      <th></th>\n",
              "      <th></th>\n",
              "      <th></th>\n",
              "      <th></th>\n",
              "      <th></th>\n",
              "      <th></th>\n",
              "      <th></th>\n",
              "      <th></th>\n",
              "      <th></th>\n",
              "      <th></th>\n",
              "      <th></th>\n",
              "      <th></th>\n",
              "      <th></th>\n",
              "      <th></th>\n",
              "    </tr>\n",
              "  </thead>\n",
              "  <tbody>\n",
              "    <tr>\n",
              "      <th>1</th>\n",
              "      <td>0</td>\n",
              "      <td>0</td>\n",
              "      <td>0</td>\n",
              "      <td>0</td>\n",
              "      <td>0</td>\n",
              "      <td>0</td>\n",
              "      <td>0</td>\n",
              "      <td>0</td>\n",
              "      <td>0</td>\n",
              "      <td>0</td>\n",
              "      <td>0</td>\n",
              "      <td>0</td>\n",
              "      <td>0</td>\n",
              "      <td>0</td>\n",
              "      <td>0</td>\n",
              "      <td>0</td>\n",
              "      <td>0</td>\n",
              "      <td>0</td>\n",
              "      <td>0</td>\n",
              "      <td>0</td>\n",
              "    </tr>\n",
              "    <tr>\n",
              "      <th>2</th>\n",
              "      <td>0</td>\n",
              "      <td>1</td>\n",
              "      <td>0</td>\n",
              "      <td>0</td>\n",
              "      <td>0</td>\n",
              "      <td>0</td>\n",
              "      <td>1</td>\n",
              "      <td>0</td>\n",
              "      <td>1</td>\n",
              "      <td>0</td>\n",
              "      <td>0</td>\n",
              "      <td>0</td>\n",
              "      <td>1</td>\n",
              "      <td>0</td>\n",
              "      <td>1</td>\n",
              "      <td>0</td>\n",
              "      <td>0</td>\n",
              "      <td>0</td>\n",
              "      <td>0</td>\n",
              "      <td>0</td>\n",
              "    </tr>\n",
              "    <tr>\n",
              "      <th>3</th>\n",
              "      <td>0</td>\n",
              "      <td>0</td>\n",
              "      <td>0</td>\n",
              "      <td>0</td>\n",
              "      <td>0</td>\n",
              "      <td>0</td>\n",
              "      <td>1</td>\n",
              "      <td>0</td>\n",
              "      <td>1</td>\n",
              "      <td>0</td>\n",
              "      <td>0</td>\n",
              "      <td>0</td>\n",
              "      <td>1</td>\n",
              "      <td>0</td>\n",
              "      <td>0</td>\n",
              "      <td>0</td>\n",
              "      <td>0</td>\n",
              "      <td>0</td>\n",
              "      <td>0</td>\n",
              "      <td>0</td>\n",
              "    </tr>\n",
              "    <tr>\n",
              "      <th>4</th>\n",
              "      <td>0</td>\n",
              "      <td>1</td>\n",
              "      <td>0</td>\n",
              "      <td>0</td>\n",
              "      <td>0</td>\n",
              "      <td>0</td>\n",
              "      <td>0</td>\n",
              "      <td>0</td>\n",
              "      <td>0</td>\n",
              "      <td>0</td>\n",
              "      <td>0</td>\n",
              "      <td>0</td>\n",
              "      <td>0</td>\n",
              "      <td>1</td>\n",
              "      <td>0</td>\n",
              "      <td>0</td>\n",
              "      <td>0</td>\n",
              "      <td>0</td>\n",
              "      <td>0</td>\n",
              "      <td>0</td>\n",
              "    </tr>\n",
              "    <tr>\n",
              "      <th>5</th>\n",
              "      <td>0</td>\n",
              "      <td>1</td>\n",
              "      <td>0</td>\n",
              "      <td>0</td>\n",
              "      <td>1</td>\n",
              "      <td>0</td>\n",
              "      <td>0</td>\n",
              "      <td>0</td>\n",
              "      <td>0</td>\n",
              "      <td>0</td>\n",
              "      <td>0</td>\n",
              "      <td>0</td>\n",
              "      <td>0</td>\n",
              "      <td>1</td>\n",
              "      <td>0</td>\n",
              "      <td>0</td>\n",
              "      <td>0</td>\n",
              "      <td>0</td>\n",
              "      <td>0</td>\n",
              "      <td>0</td>\n",
              "    </tr>\n",
              "    <tr>\n",
              "      <th>...</th>\n",
              "      <td>...</td>\n",
              "      <td>...</td>\n",
              "      <td>...</td>\n",
              "      <td>...</td>\n",
              "      <td>...</td>\n",
              "      <td>...</td>\n",
              "      <td>...</td>\n",
              "      <td>...</td>\n",
              "      <td>...</td>\n",
              "      <td>...</td>\n",
              "      <td>...</td>\n",
              "      <td>...</td>\n",
              "      <td>...</td>\n",
              "      <td>...</td>\n",
              "      <td>...</td>\n",
              "      <td>...</td>\n",
              "      <td>...</td>\n",
              "      <td>...</td>\n",
              "      <td>...</td>\n",
              "      <td>...</td>\n",
              "    </tr>\n",
              "    <tr>\n",
              "      <th>65088</th>\n",
              "      <td>0</td>\n",
              "      <td>0</td>\n",
              "      <td>0</td>\n",
              "      <td>0</td>\n",
              "      <td>1</td>\n",
              "      <td>0</td>\n",
              "      <td>0</td>\n",
              "      <td>0</td>\n",
              "      <td>0</td>\n",
              "      <td>0</td>\n",
              "      <td>0</td>\n",
              "      <td>0</td>\n",
              "      <td>0</td>\n",
              "      <td>0</td>\n",
              "      <td>0</td>\n",
              "      <td>0</td>\n",
              "      <td>0</td>\n",
              "      <td>0</td>\n",
              "      <td>0</td>\n",
              "      <td>0</td>\n",
              "    </tr>\n",
              "    <tr>\n",
              "      <th>65091</th>\n",
              "      <td>0</td>\n",
              "      <td>1</td>\n",
              "      <td>0</td>\n",
              "      <td>0</td>\n",
              "      <td>0</td>\n",
              "      <td>0</td>\n",
              "      <td>1</td>\n",
              "      <td>0</td>\n",
              "      <td>1</td>\n",
              "      <td>0</td>\n",
              "      <td>0</td>\n",
              "      <td>0</td>\n",
              "      <td>0</td>\n",
              "      <td>0</td>\n",
              "      <td>0</td>\n",
              "      <td>0</td>\n",
              "      <td>0</td>\n",
              "      <td>0</td>\n",
              "      <td>0</td>\n",
              "      <td>0</td>\n",
              "    </tr>\n",
              "    <tr>\n",
              "      <th>65126</th>\n",
              "      <td>0</td>\n",
              "      <td>0</td>\n",
              "      <td>0</td>\n",
              "      <td>0</td>\n",
              "      <td>1</td>\n",
              "      <td>0</td>\n",
              "      <td>0</td>\n",
              "      <td>0</td>\n",
              "      <td>0</td>\n",
              "      <td>0</td>\n",
              "      <td>1</td>\n",
              "      <td>0</td>\n",
              "      <td>0</td>\n",
              "      <td>1</td>\n",
              "      <td>0</td>\n",
              "      <td>0</td>\n",
              "      <td>0</td>\n",
              "      <td>0</td>\n",
              "      <td>0</td>\n",
              "      <td>0</td>\n",
              "    </tr>\n",
              "    <tr>\n",
              "      <th>65130</th>\n",
              "      <td>0</td>\n",
              "      <td>1</td>\n",
              "      <td>0</td>\n",
              "      <td>0</td>\n",
              "      <td>1</td>\n",
              "      <td>0</td>\n",
              "      <td>0</td>\n",
              "      <td>0</td>\n",
              "      <td>0</td>\n",
              "      <td>0</td>\n",
              "      <td>0</td>\n",
              "      <td>0</td>\n",
              "      <td>0</td>\n",
              "      <td>0</td>\n",
              "      <td>0</td>\n",
              "      <td>0</td>\n",
              "      <td>0</td>\n",
              "      <td>0</td>\n",
              "      <td>0</td>\n",
              "      <td>0</td>\n",
              "    </tr>\n",
              "    <tr>\n",
              "      <th>65133</th>\n",
              "      <td>0</td>\n",
              "      <td>0</td>\n",
              "      <td>0</td>\n",
              "      <td>0</td>\n",
              "      <td>1</td>\n",
              "      <td>0</td>\n",
              "      <td>0</td>\n",
              "      <td>0</td>\n",
              "      <td>0</td>\n",
              "      <td>0</td>\n",
              "      <td>0</td>\n",
              "      <td>0</td>\n",
              "      <td>0</td>\n",
              "      <td>1</td>\n",
              "      <td>0</td>\n",
              "      <td>0</td>\n",
              "      <td>0</td>\n",
              "      <td>0</td>\n",
              "      <td>0</td>\n",
              "      <td>0</td>\n",
              "    </tr>\n",
              "  </tbody>\n",
              "</table>\n",
              "<p>10197 rows × 20 columns</p>\n",
              "</div>"
            ],
            "text/plain": [
              "          Western  Comedy  Action  Thriller  ...  Sci-Fi  Documentary  Horror  IMAX\n",
              "Movie_ID                                     ...                                   \n",
              "1               0       0       0         0  ...       0            0       0     0\n",
              "2               0       1       0         0  ...       0            0       0     0\n",
              "3               0       0       0         0  ...       0            0       0     0\n",
              "4               0       1       0         0  ...       0            0       0     0\n",
              "5               0       1       0         0  ...       0            0       0     0\n",
              "...           ...     ...     ...       ...  ...     ...          ...     ...   ...\n",
              "65088           0       0       0         0  ...       0            0       0     0\n",
              "65091           0       1       0         0  ...       0            0       0     0\n",
              "65126           0       0       0         0  ...       0            0       0     0\n",
              "65130           0       1       0         0  ...       0            0       0     0\n",
              "65133           0       0       0         0  ...       0            0       0     0\n",
              "\n",
              "[10197 rows x 20 columns]"
            ]
          },
          "metadata": {
            "tags": []
          },
          "execution_count": 67
        }
      ]
    },
    {
      "cell_type": "code",
      "metadata": {
        "id": "WXVgqpeSBeeB"
      },
      "source": [
        "def user_similarity(movie_genre_matrix, movie_id, movie_genres_df):\n",
        "  train_vector =list(movie_genre_matrix.columns)  \n",
        "  movie_vector =[0]*len(train_vector) \n",
        "  genres = (movie_genres_df[movie_genres_df['movieID'] == movie_id]['genre'].values)\n",
        "  for genre in genres:\n",
        "    genre_index =  train_vector.index(genre)\n",
        "    movie_vector[genre_index] =1\n",
        "  cos_similarity = []\n",
        "  for i in movie_genre_matrix.values:\n",
        "    cos_similarity.append(cosine_similarity([movie_vector], [i])[0][0])\n",
        "  \n",
        "  print(np.argsort(cos_similarity)[:-9:-1])  "
      ],
      "execution_count": 68,
      "outputs": []
    },
    {
      "cell_type": "code",
      "metadata": {
        "id": "7ek5PH8RqJ2d"
      },
      "source": [
        "# create_actor_profile_matrix(movie_actors_df)"
      ],
      "execution_count": 69,
      "outputs": []
    },
    {
      "cell_type": "code",
      "metadata": {
        "id": "DYSUHSbGhFen"
      },
      "source": [
        "def cold_start_movie(user_id, movie_id, movie_genres_df, user_movie_matrix):\n",
        "  genres = movie_genres_df[movie_genres_df['movieID']==movie_id]['genre'].values\n",
        "  genre_count = 0\n",
        "  genre_sum = 0\n",
        "  for genre in genres:\n",
        "    genre_count+=1\n",
        "    genre_movies=movie_genres_df.loc[(movie_genres_df['genre']== genre) & (movie_genres_df['movieID']!=movie_id)]\n",
        "    print(genre_movies)\n",
        "    count =0\n",
        "    sum =0\n",
        "    for movie in genre_movies['movieID'].values:\n",
        "      if movie in user_movie_matrix:\n",
        "        if user_movie_matrix.loc[user_id].loc[movie]!=0:\n",
        "          count+=1\n",
        "          sum += user_movie_matrix.loc[user_id].loc[movie]   \n",
        "    if count!=0:\n",
        "      genre_sum+=sum/count\n",
        "  print(genre_sum/genre_count)   "
      ],
      "execution_count": 70,
      "outputs": []
    },
    {
      "cell_type": "code",
      "metadata": {
        "id": "lj6o-eqcKzX4"
      },
      "source": [
        "'''\n",
        " we took the movie genre and checked all the genres of the movies that the user has rated. \n",
        " Converted them into vectors and then computed their cosine distance \n",
        " and then selected the 9 nearest genres average the rating of all the movies in those genres and return it.\n",
        "'''\n",
        "def get_user_profile(train_df, user_id, movie_genres_df, cold_movie_genres):\n",
        "  # pdb.set_trace()\n",
        "  user_movies = train_df[train_df['userID']==user_id]\n",
        "  count = 0\n",
        "  corpus = []\n",
        "  p = []\n",
        "  for movie in user_movies.values:\n",
        "    count += 1\n",
        "    movie_id = int(movie[1])\n",
        "    p.append(movie[2])\n",
        "    a = ' '.join(movie_genres_df[movie_genres_df['movieID']==movie_id]['genre'].values)\n",
        "    corpus.append(a)\n",
        "  vectorizer = TfidfVectorizer()\n",
        "  train_tfdif = vectorizer.fit_transform(corpus)\n",
        "  test_tfdif = vectorizer.transform(cold_movie_genres)\n",
        "\n",
        "  cos_similarity = cosine_similarity(test_tfdif[0], train_tfdif).flatten()\n",
        "  neighbor_indices = cos_similarity.argsort()[:-9:-1]\n",
        "  rating = 0\n",
        "  for indices in neighbor_indices:\n",
        "     rating += p[indices]\n",
        "  return rating/len(neighbor_indices)"
      ],
      "execution_count": 71,
      "outputs": []
    },
    {
      "cell_type": "code",
      "metadata": {
        "id": "APuF3qrc-9pM"
      },
      "source": [
        "'''\n",
        "we took the movie genre and converted it into a vector using TFIDF Vectorizer on the movie genres training movies and test set (all the genres of that particular movie). \n",
        "After vectorizing the genres we calculated the cosine distance for each genre of the movie to the list of all the genres. Select the nearest 9 values. \n",
        "We compute the average of each genre and then again compute the average of the average 9 values.\n",
        "\n",
        "'''\n",
        "def cold_start_user(movie_id, movie_genres_df, user_movie_matrix, cold_movie_genres):\n",
        "  corpus = []\n",
        "  current_movie_id =0\n",
        "  for movie in movie_genres_df.values:\n",
        "    if current_movie_id != movie[0]:\n",
        "      current_movie_id = movie[0]\n",
        "      a = ' '.join(movie_genres_df[movie_genres_df['movieID']==movie[0]]['genre'].values)\n",
        "      corpus.append(a)\n",
        "  #genres = movie_genres_df[movie_genres_df['movieID']==movie_id]['genre'].values\n",
        "  vectorizer = TfidfVectorizer()\n",
        "  train_tfdif = vectorizer.fit_transform(corpus)\n",
        "  test_tfdif = vectorizer.transform(cold_movie_genres)\n",
        "  val = []\n",
        "  for index, test in enumerate(test_tfdif):\n",
        "    cos_similarity = cosine_similarity(test_tfdif[index], train_tfdif).flatten()\n",
        "    print(cos_similarity)\n",
        "    neighbor_indices = cos_similarity.argsort()[:-9:-1]\n",
        "    print(neighbor_indices)\n",
        "    tot = 0\n",
        "    for indices in neighbor_indices:\n",
        "      if indices in user_movie_matrix.columns:\n",
        "        total = (user_movie_matrix[indices].sum())/(user_movie_matrix[indices].astype(bool).sum(axis=0)) \n",
        "        tot+=total\n",
        "    val.append(total)\n",
        "  return sum(val)/ len(val)"
      ],
      "execution_count": 72,
      "outputs": []
    },
    {
      "cell_type": "code",
      "metadata": {
        "id": "jDMmMBquhxdL",
        "outputId": "b6aa16c8-55c0-4826-c8d1-afaca1497acc",
        "colab": {
          "base_uri": "https://localhost:8080/"
        }
      },
      "source": [
        "# final_pred = []\n",
        "# for test_user in test_df.values:\n",
        "  \n",
        "#   if (test_user[1] in user_movie_matrix.columns and test_user[0] in user_movie_matrix.index):\n",
        "#     user_movies_rated = user_movie_matrix.loc[test_user[0]] \n",
        "#     p = user_based_collaborative_filter(user_movie_matrix, test_user[1], user_movies_rated)\n",
        "#   elif (test_user[0] not in user_movie_matrix.index) and (test_user[1] in user_movie_matrix.columns):\n",
        "#     print(\"The User is a cold stat User\")\n",
        "#     cold_movie_genres =list(movie_genres_df[movie_genres_df['movieID']==test_user[1]]['genre'].values)\n",
        "#     p = cold_start_user(test_user[1], movie_genres_df, user_movie_matrix, cold_movie_genres)\n",
        "#   elif (test_user[1] not in user_movie_matrix.columns) and (test_user[0] in user_movie_matrix.index):\n",
        "#     print(\"The movie is a cold stat movie\", test_user[1])\n",
        "#     cold_movie_genres = list(movie_genres_df[movie_genres_df['movieID']==test_user[1]]['genre'])\n",
        "#     p = get_user_profile(train_df, test_user[0], movie_genres_df, cold_movie_genres)\n",
        "#   print('Done Test User: ', test_user[0], 'with movie: ', test_user[1])\n",
        "#   final_pred.append(p)"
      ],
      "execution_count": 74,
      "outputs": [
        {
          "output_type": "stream",
          "text": [
            "1        0.0\n",
            "2        0.0\n",
            "3        1.0\n",
            "4        0.0\n",
            "5        0.0\n",
            "        ... \n",
            "65037    0.0\n",
            "65088    0.0\n",
            "65126    0.0\n",
            "65130    0.0\n",
            "65133    0.0\n",
            "Name: 75, Length: 9936, dtype: float64\n",
            "75\n",
            "653\n"
          ],
          "name": "stdout"
        }
      ]
    },
    {
      "cell_type": "code",
      "metadata": {
        "id": "okQu-wAdi6Lz"
      },
      "source": [
        "# a_file = open(\"output.txt\", \"w\")\n",
        "# for label in final_pred:\n",
        "#     label*=5\n",
        "#     if label ==0:\n",
        "#       label = 0.5\n",
        "#     a_file.write(str((label))+\"\\n\")\n",
        "# a_file.close()"
      ],
      "execution_count": 19,
      "outputs": []
    },
    {
      "cell_type": "code",
      "metadata": {
        "id": "WuDr_fSGTqlc"
      },
      "source": [
        "# genre_list_1 = []\n",
        "# for i in train_df[(train_df['userID']==78) & (train_df['rating'] < 2)].values:\n",
        "#   a = movie_directors_df[movie_directors_df['movieID']==str(int(i[1]))].values[0]\n",
        "#   genre_list_1 += movie_genres_df[movie_genres_df['movieID']==int(a[0])]['genre'].values.tolist()\n",
        "# print(set(genre_list_1))\n"
      ],
      "execution_count": 23,
      "outputs": []
    },
    {
      "cell_type": "code",
      "metadata": {
        "id": "RMZ0fQVvQ_lv"
      },
      "source": [
        "# genre_list_2 = []\n",
        "# for i in train_df[(train_df['userID']==78) & (train_df['rating'] > 2)].values:\n",
        "#   # pdb.set_trace()\n",
        "#   print(i)\n",
        "#   a = movie_directors_df[movie_directors_df['movieID']==str(int(i[1]))].values[0]\n",
        "#   # genre_list_2 += movie_genres_df[movie_genres_df['movieID']==int(a[0])]['genre'].values.tolist()\n",
        "# print(set(genre_list_2))\n",
        "  "
      ],
      "execution_count": 24,
      "outputs": []
    },
    {
      "cell_type": "code",
      "metadata": {
        "id": "Y2t988IzS401"
      },
      "source": [
        "def user_genre(train_df, movie_genres_df, user_id):\n",
        "  genre_avg_rating = dict()\n",
        "  user_movies = train_df[train_df['userID']==user_id]['movieID'].values.tolist()\n",
        "  movie_rate = train_df[train_df['userID']==user_id]['rating'].values.tolist()\n",
        "  count = 0\n",
        "  for movie, rating in zip(user_movies, movie_rate):\n",
        "    movie_g = movie_genres_df[movie_genres_df['movieID'] == movie]['genre'].values.tolist()\n",
        "    for g in movie_g:\n",
        "      all_keys = genre_avg_rating.keys()\n",
        "      if g not in all_keys:\n",
        "        genre_avg_rating[g] = [rating, 1]\n",
        "      else:\n",
        "        genre_avg_rating[g][0] += rating \n",
        "        genre_avg_rating[g][1] += 1\n",
        "    count += 1\n",
        "  for ranting in genre_avg_rating:\n",
        "    sum_val = genre_avg_rating[ranting][0]\n",
        "    val_num = genre_avg_rating[ranting][1]\n",
        "    genre_avg_rating[ranting] = sum_val/val_num\n",
        "  return genre_avg_rating"
      ],
      "execution_count": 25,
      "outputs": []
    },
    {
      "cell_type": "code",
      "metadata": {
        "id": "GN3Erduto8tW"
      },
      "source": [
        "def prediction(train_df, test_df, movie_genres_df):\n",
        "  pred = []\n",
        "  count = 0\n",
        "  user_genre_bias = None\n",
        "  user_id_current = test_df.values.tolist()[0]\n",
        "  users_in_mem  = [i for i in set(train_df['userID'])]\n",
        "  movies_in_mem = [i for i in set(train_df['movieID'])]\n",
        "  for test_user in test_df.values.tolist():\n",
        "    print(count)\n",
        "    user = test_user[0]\n",
        "    movie = test_user[1]\n",
        "    if movie not in movies_in_mem or user not in users_in_mem: \n",
        "      pred.append(2.5)\n",
        "    else:\n",
        "      if user_genre_bias == None:\n",
        "        user_genre_bias = user_genre(train_df, movie_genres_df, user)\n",
        "      if user_genre_bias != None:\n",
        "        if user_id_current != test_user[0]:\n",
        "          user_genre_bias = user_genre(train_df, movie_genres_df, user)\n",
        "          user_id_current = test_user[0]\n",
        "      movies_genres = movie_genres_df[movie_genres_df['movieID']==movie]['genre'].values.tolist()\n",
        "      rating = 0\n",
        "      for genres in movies_genres:\n",
        "        if genres not in user_genre_bias.keys():\n",
        "          rating += 1.0\n",
        "        else:\n",
        "          rating += user_genre_bias[genres]\n",
        "      rating /= len(movies_genres)\n",
        "      pred.append(rating)\n",
        "    count+=1\n",
        "  return pred"
      ],
      "execution_count": 34,
      "outputs": []
    },
    {
      "cell_type": "code",
      "metadata": {
        "id": "jSZiouDD6lUe"
      },
      "source": [
        "pred = prediction(train_df, test_df, movie_genres_df)"
      ],
      "execution_count": null,
      "outputs": []
    },
    {
      "cell_type": "code",
      "metadata": {
        "id": "hbqrlJkh4xn-",
        "outputId": "1c078a98-d310-4287-ba67-eb25f298a871",
        "colab": {
          "base_uri": "https://localhost:8080/"
        }
      },
      "source": [
        "len(pred)"
      ],
      "execution_count": 36,
      "outputs": [
        {
          "output_type": "execute_result",
          "data": {
            "text/plain": [
              "71299"
            ]
          },
          "metadata": {
            "tags": []
          },
          "execution_count": 36
        }
      ]
    },
    {
      "cell_type": "code",
      "metadata": {
        "id": "__LP6b0W4-bv"
      },
      "source": [
        "with open('HW4_data/output.txt','w') as f:\n",
        "  for i in pred:\n",
        "    f.write(str(i)+\"\\n\")"
      ],
      "execution_count": 37,
      "outputs": []
    },
    {
      "cell_type": "markdown",
      "metadata": {
        "id": "mllDj8tirj3U"
      },
      "source": [
        "## Validation"
      ]
    },
    {
      "cell_type": "code",
      "metadata": {
        "id": "tFqgHjKf4_LY"
      },
      "source": [
        "# validation_df = train_df.drop_duplicates(subset=['userID'])\n",
        "# train_df = train_df[~train_df.isin(validation_df)].dropna()\n",
        "# X_test = validation_df.iloc[:,:-1]\n",
        "# y_actual = validation_df.iloc[:,-1]"
      ],
      "execution_count": 48,
      "outputs": []
    },
    {
      "cell_type": "code",
      "metadata": {
        "id": "zpzR1DBW7BYg"
      },
      "source": [
        "# y_predicted = prediction(train_df, X_test, movie_genres_df)"
      ],
      "execution_count": null,
      "outputs": []
    },
    {
      "cell_type": "code",
      "metadata": {
        "id": "3WV9125A4-_d",
        "outputId": "3ae6bdc0-8899-42ea-d55a-b61efcd9551e",
        "colab": {
          "base_uri": "https://localhost:8080/"
        }
      },
      "source": [
        "# from sklearn.metrics import mean_squared_error\n",
        "# from math import sqrt\n",
        "\n",
        "# rms = sqrt(mean_squared_error(y_actual, y_predicted))\n",
        "# rms\n"
      ],
      "execution_count": 56,
      "outputs": [
        {
          "output_type": "execute_result",
          "data": {
            "text/plain": [
              "0.930978086973226"
            ]
          },
          "metadata": {
            "tags": []
          },
          "execution_count": 56
        }
      ]
    },
    {
      "cell_type": "code",
      "metadata": {
        "id": "hPhF3qOZ7OhA"
      },
      "source": [
        ""
      ],
      "execution_count": null,
      "outputs": []
    }
  ]
}
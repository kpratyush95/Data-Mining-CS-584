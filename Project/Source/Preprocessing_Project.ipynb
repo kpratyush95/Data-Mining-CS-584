{
  "nbformat": 4,
  "nbformat_minor": 0,
  "metadata": {
    "colab": {
      "name": "Preprocessing_Project.ipynb",
      "provenance": [],
      "toc_visible": true
    },
    "kernelspec": {
      "name": "python3",
      "display_name": "Python 3"
    }
  },
  "cells": [
    {
      "cell_type": "code",
      "metadata": {
        "colab": {
          "base_uri": "https://localhost:8080/"
        },
        "id": "CBHsLoaGurey",
        "outputId": "7be4183c-28d3-4886-f374-30e6241dae2e"
      },
      "source": [
        "from google.colab import drive\r\n",
        "drive.mount('/content/drive')"
      ],
      "execution_count": 1,
      "outputs": [
        {
          "output_type": "stream",
          "text": [
            "Drive already mounted at /content/drive; to attempt to forcibly remount, call drive.mount(\"/content/drive\", force_remount=True).\n"
          ],
          "name": "stdout"
        }
      ]
    },
    {
      "cell_type": "code",
      "metadata": {
        "id": "tXLknrnPrKrO"
      },
      "source": [
        "import numpy as np\r\n",
        "from numpy import asarray\r\n",
        "import pandas as pd\r\n",
        "import os\r\n",
        "from keras.optimizers import Adam\r\n",
        "import pickle\r\n",
        "import random\r\n",
        "from PIL import Image, ImageOps\r\n",
        "from collections import Counter\r\n",
        "import glob\r\n",
        "import itertools\r\n",
        "import matplotlib.pyplot as plt"
      ],
      "execution_count": 2,
      "outputs": []
    },
    {
      "cell_type": "markdown",
      "metadata": {
        "id": "IS4C_zR1g7yd"
      },
      "source": [
        "## PreProcessing the data"
      ]
    },
    {
      "cell_type": "code",
      "metadata": {
        "id": "C5TZt_fngvba"
      },
      "source": [
        "'''\r\n",
        "As we are storing the images and retrieving them from the google drive need to make sure that the file path in the dataframe and in the train relationships are same\r\n",
        "'''\r\n",
        "def get_path(path):\r\n",
        "  path = path.split('/')[3:]\r\n",
        "  path = '\\\\'.join(str(elem) for elem in path)\r\n",
        "  return path\r\n",
        "\r\n",
        "def get_photos_path(photos):\r\n",
        "  ret_list = []\r\n",
        "  for items in photos:\r\n",
        "    item = items.split('/')[3:]\r\n",
        "    path = '\\\\'.join(str(elem) for elem in item)\r\n",
        "    ret_list.append(path)\r\n",
        "  ret_photos = tuple(ret_list)\r\n",
        "  return ret_photos"
      ],
      "execution_count": 3,
      "outputs": []
    },
    {
      "cell_type": "code",
      "metadata": {
        "colab": {
          "base_uri": "https://localhost:8080/",
          "height": 402
        },
        "id": "QDkLOy_OhAfh",
        "outputId": "53f00708-7e06-4b83-a6ec-4a255726263d"
      },
      "source": [
        "df = pd.DataFrame(data = {'family': [], 'person': [], 'photos': []})\r\n",
        "for family in glob.glob('drive/MyDrive/Project_Dataset/train/*'):\r\n",
        "    df_family = get_path(family)\r\n",
        "    for person in glob.glob(family + '/*'):\r\n",
        "        df_person = get_path(person)\r\n",
        "        photos = tuple(glob.glob(person + '/*'))\r\n",
        "        df_photos = get_photos_path(photos)\r\n",
        "        df = df.append(pd.Series({'family': df_family, 'person': df_person, 'photos': df_photos}), ignore_index = True)\r\n",
        "df"
      ],
      "execution_count": 4,
      "outputs": [
        {
          "output_type": "execute_result",
          "data": {
            "text/html": [
              "<div>\n",
              "<style scoped>\n",
              "    .dataframe tbody tr th:only-of-type {\n",
              "        vertical-align: middle;\n",
              "    }\n",
              "\n",
              "    .dataframe tbody tr th {\n",
              "        vertical-align: top;\n",
              "    }\n",
              "\n",
              "    .dataframe thead th {\n",
              "        text-align: right;\n",
              "    }\n",
              "</style>\n",
              "<table border=\"1\" class=\"dataframe\">\n",
              "  <thead>\n",
              "    <tr style=\"text-align: right;\">\n",
              "      <th></th>\n",
              "      <th>family</th>\n",
              "      <th>person</th>\n",
              "      <th>photos</th>\n",
              "    </tr>\n",
              "  </thead>\n",
              "  <tbody>\n",
              "    <tr>\n",
              "      <th>0</th>\n",
              "      <td>train\\F0002</td>\n",
              "      <td>train\\F0002\\MID1</td>\n",
              "      <td>(train\\F0002\\MID1\\P00012_face2.jpg, train\\F000...</td>\n",
              "    </tr>\n",
              "    <tr>\n",
              "      <th>1</th>\n",
              "      <td>train\\F0002</td>\n",
              "      <td>train\\F0002\\MID3</td>\n",
              "      <td>(train\\F0002\\MID3\\P00017_face1.jpg, train\\F000...</td>\n",
              "    </tr>\n",
              "    <tr>\n",
              "      <th>2</th>\n",
              "      <td>train\\F0002</td>\n",
              "      <td>train\\F0002\\MID2</td>\n",
              "      <td>(train\\F0002\\MID2\\P00018_face3.jpg, train\\F000...</td>\n",
              "    </tr>\n",
              "    <tr>\n",
              "      <th>3</th>\n",
              "      <td>train\\F0009</td>\n",
              "      <td>train\\F0009\\MID1</td>\n",
              "      <td>(train\\F0009\\MID1\\P10576_face2.jpg, train\\F000...</td>\n",
              "    </tr>\n",
              "    <tr>\n",
              "      <th>4</th>\n",
              "      <td>train\\F0009</td>\n",
              "      <td>train\\F0009\\MID2</td>\n",
              "      <td>(train\\F0009\\MID2\\P11743_face1.jpg, train\\F000...</td>\n",
              "    </tr>\n",
              "    <tr>\n",
              "      <th>...</th>\n",
              "      <td>...</td>\n",
              "      <td>...</td>\n",
              "      <td>...</td>\n",
              "    </tr>\n",
              "    <tr>\n",
              "      <th>2084</th>\n",
              "      <td>train\\F0901</td>\n",
              "      <td>train\\F0901\\MID4</td>\n",
              "      <td>(train\\F0901\\MID4\\P09523_face2.jpg, train\\F090...</td>\n",
              "    </tr>\n",
              "    <tr>\n",
              "      <th>2085</th>\n",
              "      <td>train\\F0901</td>\n",
              "      <td>train\\F0901\\MID2</td>\n",
              "      <td>(train\\F0901\\MID2\\P09517_face1.jpg, train\\F090...</td>\n",
              "    </tr>\n",
              "    <tr>\n",
              "      <th>2086</th>\n",
              "      <td>train\\F0903</td>\n",
              "      <td>train\\F0903\\MID1</td>\n",
              "      <td>(train\\F0903\\MID1\\P09537_face2.jpg, train\\F090...</td>\n",
              "    </tr>\n",
              "    <tr>\n",
              "      <th>2087</th>\n",
              "      <td>train\\F0903</td>\n",
              "      <td>train\\F0903\\MID3</td>\n",
              "      <td>(train\\F0903\\MID3\\P09539_face2.jpg, train\\F090...</td>\n",
              "    </tr>\n",
              "    <tr>\n",
              "      <th>2088</th>\n",
              "      <td>train\\F0903</td>\n",
              "      <td>train\\F0903\\MID2</td>\n",
              "      <td>(train\\F0903\\MID2\\P09540_face1.jpg, train\\F090...</td>\n",
              "    </tr>\n",
              "  </tbody>\n",
              "</table>\n",
              "<p>2089 rows × 3 columns</p>\n",
              "</div>"
            ],
            "text/plain": [
              "           family  ...                                             photos\n",
              "0     train\\F0002  ...  (train\\F0002\\MID1\\P00012_face2.jpg, train\\F000...\n",
              "1     train\\F0002  ...  (train\\F0002\\MID3\\P00017_face1.jpg, train\\F000...\n",
              "2     train\\F0002  ...  (train\\F0002\\MID2\\P00018_face3.jpg, train\\F000...\n",
              "3     train\\F0009  ...  (train\\F0009\\MID1\\P10576_face2.jpg, train\\F000...\n",
              "4     train\\F0009  ...  (train\\F0009\\MID2\\P11743_face1.jpg, train\\F000...\n",
              "...           ...  ...                                                ...\n",
              "2084  train\\F0901  ...  (train\\F0901\\MID4\\P09523_face2.jpg, train\\F090...\n",
              "2085  train\\F0901  ...  (train\\F0901\\MID2\\P09517_face1.jpg, train\\F090...\n",
              "2086  train\\F0903  ...  (train\\F0903\\MID1\\P09537_face2.jpg, train\\F090...\n",
              "2087  train\\F0903  ...  (train\\F0903\\MID3\\P09539_face2.jpg, train\\F090...\n",
              "2088  train\\F0903  ...  (train\\F0903\\MID2\\P09540_face1.jpg, train\\F090...\n",
              "\n",
              "[2089 rows x 3 columns]"
            ]
          },
          "metadata": {
            "tags": []
          },
          "execution_count": 4
        }
      ]
    },
    {
      "cell_type": "code",
      "metadata": {
        "id": "BSmalttBrYXH"
      },
      "source": [
        "# Writing the dataframe to a csv so that we don't have to do it everytime.\r\n",
        "df.to_csv('combinations.csv', index =False)"
      ],
      "execution_count": 5,
      "outputs": []
    },
    {
      "cell_type": "code",
      "metadata": {
        "id": "tyVDqJXhrane"
      },
      "source": [
        "# df = pd.read_csv(\"combinations.csv\", converters={\"photos\":eval})"
      ],
      "execution_count": 6,
      "outputs": []
    },
    {
      "cell_type": "code",
      "metadata": {
        "colab": {
          "base_uri": "https://localhost:8080/",
          "height": 195
        },
        "id": "gbby_ct1rnyw",
        "outputId": "d723a7fd-3081-4597-a3b4-9a97ad7f5695"
      },
      "source": [
        "'''\r\n",
        "Creating the combinations of people in a family\r\n",
        "'''\r\n",
        "family = df.family.unique()\r\n",
        "people = df.person.unique()\r\n",
        "combinations = []\r\n",
        "for fam in family:\r\n",
        "    people_in_family = df[df.family == fam].person\r\n",
        "    combinations =[*combinations, *list(itertools.combinations(people_in_family, 2))]\r\n",
        "    p1 = [x[0] for x in combinations]\r\n",
        "p2 = [x[1] for x in combinations]\r\n",
        "combinations = pd.DataFrame({'p1': p1, 'p2': p2, 'tuples': [tuple(sorted([p1[i], p2[i]])) for i in range(len(combinations))]})\r\n",
        "combinations.head()"
      ],
      "execution_count": 7,
      "outputs": [
        {
          "output_type": "execute_result",
          "data": {
            "text/html": [
              "<div>\n",
              "<style scoped>\n",
              "    .dataframe tbody tr th:only-of-type {\n",
              "        vertical-align: middle;\n",
              "    }\n",
              "\n",
              "    .dataframe tbody tr th {\n",
              "        vertical-align: top;\n",
              "    }\n",
              "\n",
              "    .dataframe thead th {\n",
              "        text-align: right;\n",
              "    }\n",
              "</style>\n",
              "<table border=\"1\" class=\"dataframe\">\n",
              "  <thead>\n",
              "    <tr style=\"text-align: right;\">\n",
              "      <th></th>\n",
              "      <th>p1</th>\n",
              "      <th>p2</th>\n",
              "      <th>tuples</th>\n",
              "    </tr>\n",
              "  </thead>\n",
              "  <tbody>\n",
              "    <tr>\n",
              "      <th>0</th>\n",
              "      <td>train\\F0002\\MID1</td>\n",
              "      <td>train\\F0002\\MID3</td>\n",
              "      <td>(train\\F0002\\MID1, train\\F0002\\MID3)</td>\n",
              "    </tr>\n",
              "    <tr>\n",
              "      <th>1</th>\n",
              "      <td>train\\F0002\\MID1</td>\n",
              "      <td>train\\F0002\\MID2</td>\n",
              "      <td>(train\\F0002\\MID1, train\\F0002\\MID2)</td>\n",
              "    </tr>\n",
              "    <tr>\n",
              "      <th>2</th>\n",
              "      <td>train\\F0002\\MID3</td>\n",
              "      <td>train\\F0002\\MID2</td>\n",
              "      <td>(train\\F0002\\MID2, train\\F0002\\MID3)</td>\n",
              "    </tr>\n",
              "    <tr>\n",
              "      <th>3</th>\n",
              "      <td>train\\F0009\\MID1</td>\n",
              "      <td>train\\F0009\\MID2</td>\n",
              "      <td>(train\\F0009\\MID1, train\\F0009\\MID2)</td>\n",
              "    </tr>\n",
              "    <tr>\n",
              "      <th>4</th>\n",
              "      <td>train\\F0009\\MID1</td>\n",
              "      <td>train\\F0009\\MID3</td>\n",
              "      <td>(train\\F0009\\MID1, train\\F0009\\MID3)</td>\n",
              "    </tr>\n",
              "  </tbody>\n",
              "</table>\n",
              "</div>"
            ],
            "text/plain": [
              "                 p1                p2                                tuples\n",
              "0  train\\F0002\\MID1  train\\F0002\\MID3  (train\\F0002\\MID1, train\\F0002\\MID3)\n",
              "1  train\\F0002\\MID1  train\\F0002\\MID2  (train\\F0002\\MID1, train\\F0002\\MID2)\n",
              "2  train\\F0002\\MID3  train\\F0002\\MID2  (train\\F0002\\MID2, train\\F0002\\MID3)\n",
              "3  train\\F0009\\MID1  train\\F0009\\MID2  (train\\F0009\\MID1, train\\F0009\\MID2)\n",
              "4  train\\F0009\\MID1  train\\F0009\\MID3  (train\\F0009\\MID1, train\\F0009\\MID3)"
            ]
          },
          "metadata": {
            "tags": []
          },
          "execution_count": 7
        }
      ]
    },
    {
      "cell_type": "code",
      "metadata": {
        "id": "O-zQvkxMr7Mw"
      },
      "source": [
        "train_relationships= pd.read_csv(\"train_relationships.csv\")"
      ],
      "execution_count": 8,
      "outputs": []
    },
    {
      "cell_type": "code",
      "metadata": {
        "id": "nNa9bVd8r_7A"
      },
      "source": [
        "train_relationships.p1 = train_relationships.p1.apply(lambda x: 'train/' + x).apply(lambda x: str.replace(x, '/', '\\\\'))\r\n",
        "train_relationships.p2 = train_relationships.p2.apply(lambda x: 'train/' + x).apply(lambda x: str.replace(x, '/', '\\\\'))"
      ],
      "execution_count": 9,
      "outputs": []
    },
    {
      "cell_type": "code",
      "metadata": {
        "colab": {
          "base_uri": "https://localhost:8080/",
          "height": 402
        },
        "id": "YHJl9HeasBup",
        "outputId": "1b3a7d33-7df4-4220-d891-b3c1e6578e59"
      },
      "source": [
        "train_relationships"
      ],
      "execution_count": 10,
      "outputs": [
        {
          "output_type": "execute_result",
          "data": {
            "text/html": [
              "<div>\n",
              "<style scoped>\n",
              "    .dataframe tbody tr th:only-of-type {\n",
              "        vertical-align: middle;\n",
              "    }\n",
              "\n",
              "    .dataframe tbody tr th {\n",
              "        vertical-align: top;\n",
              "    }\n",
              "\n",
              "    .dataframe thead th {\n",
              "        text-align: right;\n",
              "    }\n",
              "</style>\n",
              "<table border=\"1\" class=\"dataframe\">\n",
              "  <thead>\n",
              "    <tr style=\"text-align: right;\">\n",
              "      <th></th>\n",
              "      <th>p1</th>\n",
              "      <th>p2</th>\n",
              "    </tr>\n",
              "  </thead>\n",
              "  <tbody>\n",
              "    <tr>\n",
              "      <th>0</th>\n",
              "      <td>train\\F0002\\MID1</td>\n",
              "      <td>train\\F0002\\MID3</td>\n",
              "    </tr>\n",
              "    <tr>\n",
              "      <th>1</th>\n",
              "      <td>train\\F0002\\MID2</td>\n",
              "      <td>train\\F0002\\MID3</td>\n",
              "    </tr>\n",
              "    <tr>\n",
              "      <th>2</th>\n",
              "      <td>train\\F0005\\MID1</td>\n",
              "      <td>train\\F0005\\MID2</td>\n",
              "    </tr>\n",
              "    <tr>\n",
              "      <th>3</th>\n",
              "      <td>train\\F0005\\MID3</td>\n",
              "      <td>train\\F0005\\MID2</td>\n",
              "    </tr>\n",
              "    <tr>\n",
              "      <th>4</th>\n",
              "      <td>train\\F0009\\MID1</td>\n",
              "      <td>train\\F0009\\MID4</td>\n",
              "    </tr>\n",
              "    <tr>\n",
              "      <th>...</th>\n",
              "      <td>...</td>\n",
              "      <td>...</td>\n",
              "    </tr>\n",
              "    <tr>\n",
              "      <th>3593</th>\n",
              "      <td>train\\F1000\\MID5</td>\n",
              "      <td>train\\F1000\\MID8</td>\n",
              "    </tr>\n",
              "    <tr>\n",
              "      <th>3594</th>\n",
              "      <td>train\\F1000\\MID5</td>\n",
              "      <td>train\\F1000\\MID9</td>\n",
              "    </tr>\n",
              "    <tr>\n",
              "      <th>3595</th>\n",
              "      <td>train\\F1000\\MID6</td>\n",
              "      <td>train\\F1000\\MID9</td>\n",
              "    </tr>\n",
              "    <tr>\n",
              "      <th>3596</th>\n",
              "      <td>train\\F1000\\MID7</td>\n",
              "      <td>train\\F1000\\MID8</td>\n",
              "    </tr>\n",
              "    <tr>\n",
              "      <th>3597</th>\n",
              "      <td>train\\F1000\\MID7</td>\n",
              "      <td>train\\F1000\\MID9</td>\n",
              "    </tr>\n",
              "  </tbody>\n",
              "</table>\n",
              "<p>3598 rows × 2 columns</p>\n",
              "</div>"
            ],
            "text/plain": [
              "                    p1                p2\n",
              "0     train\\F0002\\MID1  train\\F0002\\MID3\n",
              "1     train\\F0002\\MID2  train\\F0002\\MID3\n",
              "2     train\\F0005\\MID1  train\\F0005\\MID2\n",
              "3     train\\F0005\\MID3  train\\F0005\\MID2\n",
              "4     train\\F0009\\MID1  train\\F0009\\MID4\n",
              "...                ...               ...\n",
              "3593  train\\F1000\\MID5  train\\F1000\\MID8\n",
              "3594  train\\F1000\\MID5  train\\F1000\\MID9\n",
              "3595  train\\F1000\\MID6  train\\F1000\\MID9\n",
              "3596  train\\F1000\\MID7  train\\F1000\\MID8\n",
              "3597  train\\F1000\\MID7  train\\F1000\\MID9\n",
              "\n",
              "[3598 rows x 2 columns]"
            ]
          },
          "metadata": {
            "tags": []
          },
          "execution_count": 10
        }
      ]
    },
    {
      "cell_type": "code",
      "metadata": {
        "colab": {
          "base_uri": "https://localhost:8080/"
        },
        "id": "Ix2D5dqrsDX9",
        "outputId": "b869e45b-cbf2-48e5-df5c-81f26da86c7e"
      },
      "source": [
        "len(train_relationships) - ((train_relationships.p1.isin(people)) & (train_relationships.p2.isin(people))).sum()"
      ],
      "execution_count": 11,
      "outputs": [
        {
          "output_type": "execute_result",
          "data": {
            "text/plain": [
              "539"
            ]
          },
          "metadata": {
            "tags": []
          },
          "execution_count": 11
        }
      ]
    },
    {
      "cell_type": "code",
      "metadata": {
        "colab": {
          "base_uri": "https://localhost:8080/"
        },
        "id": "2fin91ZQsIA1",
        "outputId": "c2c1face-3cce-40fc-ef22-71f3be360854"
      },
      "source": [
        "train_relationships = train_relationships[(train_relationships.p1.isin(people)) & (train_relationships.p2.isin(people))]\r\n",
        "train_relationships['tuples'] = [tuple(sorted([train_relationships.iloc[row, 0], train_relationships.iloc[row, 1]])) for row in range(len(train_relationships))]"
      ],
      "execution_count": 12,
      "outputs": [
        {
          "output_type": "stream",
          "text": [
            "/usr/local/lib/python3.6/dist-packages/ipykernel_launcher.py:2: SettingWithCopyWarning: \n",
            "A value is trying to be set on a copy of a slice from a DataFrame.\n",
            "Try using .loc[row_indexer,col_indexer] = value instead\n",
            "\n",
            "See the caveats in the documentation: https://pandas.pydata.org/pandas-docs/stable/user_guide/indexing.html#returning-a-view-versus-a-copy\n",
            "  \n"
          ],
          "name": "stderr"
        }
      ]
    },
    {
      "cell_type": "code",
      "metadata": {
        "colab": {
          "base_uri": "https://localhost:8080/",
          "height": 402
        },
        "id": "yKetqRFRsJ0N",
        "outputId": "22b128a9-a608-48ae-fe94-7912e57cc791"
      },
      "source": [
        "train_relationships"
      ],
      "execution_count": 13,
      "outputs": [
        {
          "output_type": "execute_result",
          "data": {
            "text/html": [
              "<div>\n",
              "<style scoped>\n",
              "    .dataframe tbody tr th:only-of-type {\n",
              "        vertical-align: middle;\n",
              "    }\n",
              "\n",
              "    .dataframe tbody tr th {\n",
              "        vertical-align: top;\n",
              "    }\n",
              "\n",
              "    .dataframe thead th {\n",
              "        text-align: right;\n",
              "    }\n",
              "</style>\n",
              "<table border=\"1\" class=\"dataframe\">\n",
              "  <thead>\n",
              "    <tr style=\"text-align: right;\">\n",
              "      <th></th>\n",
              "      <th>p1</th>\n",
              "      <th>p2</th>\n",
              "      <th>tuples</th>\n",
              "    </tr>\n",
              "  </thead>\n",
              "  <tbody>\n",
              "    <tr>\n",
              "      <th>0</th>\n",
              "      <td>train\\F0002\\MID1</td>\n",
              "      <td>train\\F0002\\MID3</td>\n",
              "      <td>(train\\F0002\\MID1, train\\F0002\\MID3)</td>\n",
              "    </tr>\n",
              "    <tr>\n",
              "      <th>1</th>\n",
              "      <td>train\\F0002\\MID2</td>\n",
              "      <td>train\\F0002\\MID3</td>\n",
              "      <td>(train\\F0002\\MID2, train\\F0002\\MID3)</td>\n",
              "    </tr>\n",
              "    <tr>\n",
              "      <th>2</th>\n",
              "      <td>train\\F0005\\MID1</td>\n",
              "      <td>train\\F0005\\MID2</td>\n",
              "      <td>(train\\F0005\\MID1, train\\F0005\\MID2)</td>\n",
              "    </tr>\n",
              "    <tr>\n",
              "      <th>3</th>\n",
              "      <td>train\\F0005\\MID3</td>\n",
              "      <td>train\\F0005\\MID2</td>\n",
              "      <td>(train\\F0005\\MID2, train\\F0005\\MID3)</td>\n",
              "    </tr>\n",
              "    <tr>\n",
              "      <th>4</th>\n",
              "      <td>train\\F0009\\MID1</td>\n",
              "      <td>train\\F0009\\MID4</td>\n",
              "      <td>(train\\F0009\\MID1, train\\F0009\\MID4)</td>\n",
              "    </tr>\n",
              "    <tr>\n",
              "      <th>...</th>\n",
              "      <td>...</td>\n",
              "      <td>...</td>\n",
              "      <td>...</td>\n",
              "    </tr>\n",
              "    <tr>\n",
              "      <th>3279</th>\n",
              "      <td>train\\F0901\\MID3</td>\n",
              "      <td>train\\F0901\\MID1</td>\n",
              "      <td>(train\\F0901\\MID1, train\\F0901\\MID3)</td>\n",
              "    </tr>\n",
              "    <tr>\n",
              "      <th>3280</th>\n",
              "      <td>train\\F0901\\MID3</td>\n",
              "      <td>train\\F0901\\MID4</td>\n",
              "      <td>(train\\F0901\\MID3, train\\F0901\\MID4)</td>\n",
              "    </tr>\n",
              "    <tr>\n",
              "      <th>3281</th>\n",
              "      <td>train\\F0901\\MID5</td>\n",
              "      <td>train\\F0901\\MID4</td>\n",
              "      <td>(train\\F0901\\MID4, train\\F0901\\MID5)</td>\n",
              "    </tr>\n",
              "    <tr>\n",
              "      <th>3282</th>\n",
              "      <td>train\\F0903\\MID1</td>\n",
              "      <td>train\\F0903\\MID2</td>\n",
              "      <td>(train\\F0903\\MID1, train\\F0903\\MID2)</td>\n",
              "    </tr>\n",
              "    <tr>\n",
              "      <th>3283</th>\n",
              "      <td>train\\F0903\\MID2</td>\n",
              "      <td>train\\F0903\\MID3</td>\n",
              "      <td>(train\\F0903\\MID2, train\\F0903\\MID3)</td>\n",
              "    </tr>\n",
              "  </tbody>\n",
              "</table>\n",
              "<p>3059 rows × 3 columns</p>\n",
              "</div>"
            ],
            "text/plain": [
              "                    p1                p2                                tuples\n",
              "0     train\\F0002\\MID1  train\\F0002\\MID3  (train\\F0002\\MID1, train\\F0002\\MID3)\n",
              "1     train\\F0002\\MID2  train\\F0002\\MID3  (train\\F0002\\MID2, train\\F0002\\MID3)\n",
              "2     train\\F0005\\MID1  train\\F0005\\MID2  (train\\F0005\\MID1, train\\F0005\\MID2)\n",
              "3     train\\F0005\\MID3  train\\F0005\\MID2  (train\\F0005\\MID2, train\\F0005\\MID3)\n",
              "4     train\\F0009\\MID1  train\\F0009\\MID4  (train\\F0009\\MID1, train\\F0009\\MID4)\n",
              "...                ...               ...                                   ...\n",
              "3279  train\\F0901\\MID3  train\\F0901\\MID1  (train\\F0901\\MID1, train\\F0901\\MID3)\n",
              "3280  train\\F0901\\MID3  train\\F0901\\MID4  (train\\F0901\\MID3, train\\F0901\\MID4)\n",
              "3281  train\\F0901\\MID5  train\\F0901\\MID4  (train\\F0901\\MID4, train\\F0901\\MID5)\n",
              "3282  train\\F0903\\MID1  train\\F0903\\MID2  (train\\F0903\\MID1, train\\F0903\\MID2)\n",
              "3283  train\\F0903\\MID2  train\\F0903\\MID3  (train\\F0903\\MID2, train\\F0903\\MID3)\n",
              "\n",
              "[3059 rows x 3 columns]"
            ]
          },
          "metadata": {
            "tags": []
          },
          "execution_count": 13
        }
      ]
    },
    {
      "cell_type": "code",
      "metadata": {
        "id": "px15BL5_sN9q"
      },
      "source": [
        "combinations['kinship'] = 0\r\n",
        "combinations.loc[combinations['tuples'].isin(train_relationships['tuples']), 'kinship'] = 1"
      ],
      "execution_count": 14,
      "outputs": []
    },
    {
      "cell_type": "code",
      "metadata": {
        "colab": {
          "base_uri": "https://localhost:8080/",
          "height": 402
        },
        "id": "Sn5Mhe36sP1y",
        "outputId": "828d0bea-0cbe-4ed1-a8dd-b62c8b841853"
      },
      "source": [
        "combinations"
      ],
      "execution_count": 15,
      "outputs": [
        {
          "output_type": "execute_result",
          "data": {
            "text/html": [
              "<div>\n",
              "<style scoped>\n",
              "    .dataframe tbody tr th:only-of-type {\n",
              "        vertical-align: middle;\n",
              "    }\n",
              "\n",
              "    .dataframe tbody tr th {\n",
              "        vertical-align: top;\n",
              "    }\n",
              "\n",
              "    .dataframe thead th {\n",
              "        text-align: right;\n",
              "    }\n",
              "</style>\n",
              "<table border=\"1\" class=\"dataframe\">\n",
              "  <thead>\n",
              "    <tr style=\"text-align: right;\">\n",
              "      <th></th>\n",
              "      <th>p1</th>\n",
              "      <th>p2</th>\n",
              "      <th>tuples</th>\n",
              "      <th>kinship</th>\n",
              "    </tr>\n",
              "  </thead>\n",
              "  <tbody>\n",
              "    <tr>\n",
              "      <th>0</th>\n",
              "      <td>train\\F0002\\MID1</td>\n",
              "      <td>train\\F0002\\MID3</td>\n",
              "      <td>(train\\F0002\\MID1, train\\F0002\\MID3)</td>\n",
              "      <td>1</td>\n",
              "    </tr>\n",
              "    <tr>\n",
              "      <th>1</th>\n",
              "      <td>train\\F0002\\MID1</td>\n",
              "      <td>train\\F0002\\MID2</td>\n",
              "      <td>(train\\F0002\\MID1, train\\F0002\\MID2)</td>\n",
              "      <td>0</td>\n",
              "    </tr>\n",
              "    <tr>\n",
              "      <th>2</th>\n",
              "      <td>train\\F0002\\MID3</td>\n",
              "      <td>train\\F0002\\MID2</td>\n",
              "      <td>(train\\F0002\\MID2, train\\F0002\\MID3)</td>\n",
              "      <td>1</td>\n",
              "    </tr>\n",
              "    <tr>\n",
              "      <th>3</th>\n",
              "      <td>train\\F0009\\MID1</td>\n",
              "      <td>train\\F0009\\MID2</td>\n",
              "      <td>(train\\F0009\\MID1, train\\F0009\\MID2)</td>\n",
              "      <td>1</td>\n",
              "    </tr>\n",
              "    <tr>\n",
              "      <th>4</th>\n",
              "      <td>train\\F0009\\MID1</td>\n",
              "      <td>train\\F0009\\MID3</td>\n",
              "      <td>(train\\F0009\\MID1, train\\F0009\\MID3)</td>\n",
              "      <td>1</td>\n",
              "    </tr>\n",
              "    <tr>\n",
              "      <th>...</th>\n",
              "      <td>...</td>\n",
              "      <td>...</td>\n",
              "      <td>...</td>\n",
              "      <td>...</td>\n",
              "    </tr>\n",
              "    <tr>\n",
              "      <th>5752</th>\n",
              "      <td>train\\F0901\\MID3</td>\n",
              "      <td>train\\F0901\\MID2</td>\n",
              "      <td>(train\\F0901\\MID2, train\\F0901\\MID3)</td>\n",
              "      <td>0</td>\n",
              "    </tr>\n",
              "    <tr>\n",
              "      <th>5753</th>\n",
              "      <td>train\\F0901\\MID4</td>\n",
              "      <td>train\\F0901\\MID2</td>\n",
              "      <td>(train\\F0901\\MID2, train\\F0901\\MID4)</td>\n",
              "      <td>1</td>\n",
              "    </tr>\n",
              "    <tr>\n",
              "      <th>5754</th>\n",
              "      <td>train\\F0903\\MID1</td>\n",
              "      <td>train\\F0903\\MID3</td>\n",
              "      <td>(train\\F0903\\MID1, train\\F0903\\MID3)</td>\n",
              "      <td>0</td>\n",
              "    </tr>\n",
              "    <tr>\n",
              "      <th>5755</th>\n",
              "      <td>train\\F0903\\MID1</td>\n",
              "      <td>train\\F0903\\MID2</td>\n",
              "      <td>(train\\F0903\\MID1, train\\F0903\\MID2)</td>\n",
              "      <td>1</td>\n",
              "    </tr>\n",
              "    <tr>\n",
              "      <th>5756</th>\n",
              "      <td>train\\F0903\\MID3</td>\n",
              "      <td>train\\F0903\\MID2</td>\n",
              "      <td>(train\\F0903\\MID2, train\\F0903\\MID3)</td>\n",
              "      <td>1</td>\n",
              "    </tr>\n",
              "  </tbody>\n",
              "</table>\n",
              "<p>5757 rows × 4 columns</p>\n",
              "</div>"
            ],
            "text/plain": [
              "                    p1  ... kinship\n",
              "0     train\\F0002\\MID1  ...       1\n",
              "1     train\\F0002\\MID1  ...       0\n",
              "2     train\\F0002\\MID3  ...       1\n",
              "3     train\\F0009\\MID1  ...       1\n",
              "4     train\\F0009\\MID1  ...       1\n",
              "...                ...  ...     ...\n",
              "5752  train\\F0901\\MID3  ...       0\n",
              "5753  train\\F0901\\MID4  ...       1\n",
              "5754  train\\F0903\\MID1  ...       0\n",
              "5755  train\\F0903\\MID1  ...       1\n",
              "5756  train\\F0903\\MID3  ...       1\n",
              "\n",
              "[5757 rows x 4 columns]"
            ]
          },
          "metadata": {
            "tags": []
          },
          "execution_count": 15
        }
      ]
    },
    {
      "cell_type": "code",
      "metadata": {
        "colab": {
          "base_uri": "https://localhost:8080/"
        },
        "id": "7lAGLCJgsR8O",
        "outputId": "349a2fc9-9a0a-4564-8703-95dbd5b2adc4"
      },
      "source": [
        "combinations['kinship'].value_counts()"
      ],
      "execution_count": 16,
      "outputs": [
        {
          "output_type": "execute_result",
          "data": {
            "text/plain": [
              "1    3059\n",
              "0    2698\n",
              "Name: kinship, dtype: int64"
            ]
          },
          "metadata": {
            "tags": []
          },
          "execution_count": 16
        }
      ]
    },
    {
      "cell_type": "code",
      "metadata": {
        "colab": {
          "base_uri": "https://localhost:8080/",
          "height": 402
        },
        "id": "a0jw1gZOsUAu",
        "outputId": "b7126874-4612-48b5-caab-4aa786ecbf3f"
      },
      "source": [
        "photo_combinations = pd.DataFrame({'tuples' : [], 'kinship' : []})\r\n",
        "for row in range(len(combinations)):\r\n",
        "    p1 = combinations.p1[row]\r\n",
        "    p2 = combinations.p2[row]\r\n",
        "    kinship_pair = [combinations.kinship[row]]\r\n",
        "    \r\n",
        "    photos1 = df[df.person == p1].photos\r\n",
        "    photos1 = [list(x) for x in photos1][0]\r\n",
        "    photos2 = df[df.person == p2].photos\r\n",
        "    photos2 = [list(x) for x in photos2][0]\r\n",
        "            \r\n",
        "    photo_pairs = list(itertools.product(photos1, photos2))\r\n",
        "    kinship_pairs = kinship_pair * len(photo_pairs)\r\n",
        "\r\n",
        "    comb_temp = pd.DataFrame({'tuples' : photo_pairs, 'kinship' : kinship_pairs})\r\n",
        "    photo_combinations = photo_combinations.append(comb_temp)\r\n",
        "photo_combinations.kinship = pd.to_numeric(photo_combinations.kinship, downcast = 'integer')\r\n",
        "photo_combinations = photo_combinations.sample(frac=1).reset_index(drop=True)\r\n",
        "photo_combinations"
      ],
      "execution_count": 17,
      "outputs": [
        {
          "output_type": "execute_result",
          "data": {
            "text/html": [
              "<div>\n",
              "<style scoped>\n",
              "    .dataframe tbody tr th:only-of-type {\n",
              "        vertical-align: middle;\n",
              "    }\n",
              "\n",
              "    .dataframe tbody tr th {\n",
              "        vertical-align: top;\n",
              "    }\n",
              "\n",
              "    .dataframe thead th {\n",
              "        text-align: right;\n",
              "    }\n",
              "</style>\n",
              "<table border=\"1\" class=\"dataframe\">\n",
              "  <thead>\n",
              "    <tr style=\"text-align: right;\">\n",
              "      <th></th>\n",
              "      <th>tuples</th>\n",
              "      <th>kinship</th>\n",
              "    </tr>\n",
              "  </thead>\n",
              "  <tbody>\n",
              "    <tr>\n",
              "      <th>0</th>\n",
              "      <td>(train\\F0872\\MID4\\P09211_face4.jpg, train\\F087...</td>\n",
              "      <td>0</td>\n",
              "    </tr>\n",
              "    <tr>\n",
              "      <th>1</th>\n",
              "      <td>(train\\F0215\\MID1\\P02287_face2.jpg, train\\F021...</td>\n",
              "      <td>1</td>\n",
              "    </tr>\n",
              "    <tr>\n",
              "      <th>2</th>\n",
              "      <td>(train\\F0376\\MID9\\P10635_face1.jpg, train\\F037...</td>\n",
              "      <td>0</td>\n",
              "    </tr>\n",
              "    <tr>\n",
              "      <th>3</th>\n",
              "      <td>(train\\F0754\\MID2\\P07920_face5.jpg, train\\F075...</td>\n",
              "      <td>1</td>\n",
              "    </tr>\n",
              "    <tr>\n",
              "      <th>4</th>\n",
              "      <td>(train\\F0601\\MID19\\P12002_face1.jpg, train\\F06...</td>\n",
              "      <td>0</td>\n",
              "    </tr>\n",
              "    <tr>\n",
              "      <th>...</th>\n",
              "      <td>...</td>\n",
              "      <td>...</td>\n",
              "    </tr>\n",
              "    <tr>\n",
              "      <th>422866</th>\n",
              "      <td>(train\\F0601\\MID2\\P12067_face2.jpg, train\\F060...</td>\n",
              "      <td>0</td>\n",
              "    </tr>\n",
              "    <tr>\n",
              "      <th>422867</th>\n",
              "      <td>(train\\F0601\\MID2\\P06288_face1.jpg, train\\F060...</td>\n",
              "      <td>1</td>\n",
              "    </tr>\n",
              "    <tr>\n",
              "      <th>422868</th>\n",
              "      <td>(train\\F0617\\MID4\\P06478_face1.jpg, train\\F061...</td>\n",
              "      <td>1</td>\n",
              "    </tr>\n",
              "    <tr>\n",
              "      <th>422869</th>\n",
              "      <td>(train\\F0198\\MID1\\P02126_face4.jpg, train\\F019...</td>\n",
              "      <td>0</td>\n",
              "    </tr>\n",
              "    <tr>\n",
              "      <th>422870</th>\n",
              "      <td>(train\\F0665\\MID2\\P06953_face5.jpg, train\\F066...</td>\n",
              "      <td>1</td>\n",
              "    </tr>\n",
              "  </tbody>\n",
              "</table>\n",
              "<p>422871 rows × 2 columns</p>\n",
              "</div>"
            ],
            "text/plain": [
              "                                                   tuples  kinship\n",
              "0       (train\\F0872\\MID4\\P09211_face4.jpg, train\\F087...        0\n",
              "1       (train\\F0215\\MID1\\P02287_face2.jpg, train\\F021...        1\n",
              "2       (train\\F0376\\MID9\\P10635_face1.jpg, train\\F037...        0\n",
              "3       (train\\F0754\\MID2\\P07920_face5.jpg, train\\F075...        1\n",
              "4       (train\\F0601\\MID19\\P12002_face1.jpg, train\\F06...        0\n",
              "...                                                   ...      ...\n",
              "422866  (train\\F0601\\MID2\\P12067_face2.jpg, train\\F060...        0\n",
              "422867  (train\\F0601\\MID2\\P06288_face1.jpg, train\\F060...        1\n",
              "422868  (train\\F0617\\MID4\\P06478_face1.jpg, train\\F061...        1\n",
              "422869  (train\\F0198\\MID1\\P02126_face4.jpg, train\\F019...        0\n",
              "422870  (train\\F0665\\MID2\\P06953_face5.jpg, train\\F066...        1\n",
              "\n",
              "[422871 rows x 2 columns]"
            ]
          },
          "metadata": {
            "tags": []
          },
          "execution_count": 17
        }
      ]
    },
    {
      "cell_type": "code",
      "metadata": {
        "id": "XUURT2fPsV0W"
      },
      "source": [
        "photo_combinations.to_csv(\"photo_combinations.csv\", index = False)"
      ],
      "execution_count": 18,
      "outputs": []
    },
    {
      "cell_type": "code",
      "metadata": {
        "id": "hYIDui3Usdvn"
      },
      "source": [
        ""
      ],
      "execution_count": 18,
      "outputs": []
    }
  ]
}
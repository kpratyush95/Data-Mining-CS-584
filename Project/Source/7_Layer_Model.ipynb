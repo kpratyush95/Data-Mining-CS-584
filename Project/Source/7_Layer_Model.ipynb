{
  "nbformat": 4,
  "nbformat_minor": 0,
  "metadata": {
    "colab": {
      "name": "7 Layer Model.ipynb",
      "provenance": [],
      "collapsed_sections": [],
      "machine_shape": "hm"
    },
    "kernelspec": {
      "name": "python3",
      "display_name": "Python 3"
    },
    "accelerator": "GPU"
  },
  "cells": [
    {
      "cell_type": "code",
      "metadata": {
        "id": "o1PVxnNqtFpL"
      },
      "source": [
        "!pip install keras_vggface"
      ],
      "execution_count": null,
      "outputs": []
    },
    {
      "cell_type": "code",
      "metadata": {
        "id": "hUBhjwQftIjI"
      },
      "source": [
        "!pip install keras_applications"
      ],
      "execution_count": null,
      "outputs": []
    },
    {
      "cell_type": "code",
      "metadata": {
        "id": "O5Bxuni2tLhf"
      },
      "source": [
        "from google.colab import drive\r\n",
        "drive.mount('/content/drive')"
      ],
      "execution_count": null,
      "outputs": []
    },
    {
      "cell_type": "markdown",
      "metadata": {
        "id": "HMRt6dILxoSe"
      },
      "source": [
        "##Import Statements\r\n"
      ]
    },
    {
      "cell_type": "code",
      "metadata": {
        "id": "_gQSbgQ_s2Dc"
      },
      "source": [
        "import numpy as np\r\n",
        "from numpy import asarray\r\n",
        "import pandas as pd\r\n",
        "import os\r\n",
        "from keras.optimizers import Adam\r\n",
        "import pickle\r\n",
        "import random\r\n",
        "from PIL import Image, ImageOps\r\n",
        "from collections import Counter\r\n",
        "import glob\r\n",
        "import itertools\r\n",
        "from tensorflow import keras\r\n",
        "import matplotlib.pyplot as plt\r\n",
        "from sklearn.model_selection import train_test_split\r\n",
        "import tensorflow\r\n",
        "from tensorflow.keras import Model\r\n",
        "from tensorflow.keras.datasets import mnist\r\n",
        "from tensorflow.keras.utils import to_categorical\r\n",
        "from tensorflow.keras.models import Sequential\r\n",
        "from tensorflow.keras.layers import Dense\r\n",
        "from tensorflow.keras.layers import Dropout, BatchNormalization\r\n",
        "from tensorflow.keras.layers import Conv2D, MaxPooling2D, Flatten, Convolution2D, AveragePooling2D\r\n",
        "from keras import backend as K\r\n",
        "from keras.callbacks import ModelCheckpoint\r\n",
        "from keras.layers import Input, Lambda\r\n",
        "from keras.models import load_model, Model\r\n",
        "from keras.preprocessing import image\r\n",
        "from keras.utils import Sequence\r\n",
        "from keras_vggface import utils\r\n",
        "from keras_vggface.vggface import VGGFace\r\n",
        "from sklearn.metrics import accuracy_score, roc_curve, roc_auc_score\r\n",
        "import tensorflow as tf\r\n",
        "from tensorflow.keras.layers import Dense"
      ],
      "execution_count": 4,
      "outputs": []
    },
    {
      "cell_type": "markdown",
      "metadata": {
        "id": "SieuSNyJxstJ"
      },
      "source": [
        "###Reading the all the possible Combinations"
      ]
    },
    {
      "cell_type": "code",
      "metadata": {
        "id": "McdImgTmtm1_"
      },
      "source": [
        "photo_combinations = pd.read_csv(\"photo_combinations.csv\",converters={\"tuples\":eval})\r\n",
        "photo_combinations"
      ],
      "execution_count": null,
      "outputs": []
    },
    {
      "cell_type": "code",
      "metadata": {
        "id": "CIX0BEclyG8d"
      },
      "source": [
        "photo_combinations = photo_combinations.sample(frac = 0.3547181055215420305483232475152)"
      ],
      "execution_count": 6,
      "outputs": []
    },
    {
      "cell_type": "markdown",
      "metadata": {
        "id": "YLb53W3tx3bl"
      },
      "source": [
        "###Train Test Split"
      ]
    },
    {
      "cell_type": "code",
      "metadata": {
        "id": "Z_CCm5ZjtB14"
      },
      "source": [
        "def train_validate_test_split(df,seed= 2018, train_percent=.80, validation_percent = 0.125):\r\n",
        "  train, test = train_test_split(df, train_size=train_percent, stratify=df['kinship'])\r\n",
        "  train,validate = train_test_split(train, test_size=validation_percent, stratify=train['kinship'])\r\n",
        "  return train, validate, test"
      ],
      "execution_count": 7,
      "outputs": []
    },
    {
      "cell_type": "code",
      "metadata": {
        "id": "SZ4mrBmYwQkm"
      },
      "source": [
        "train_df, validate_df, test_df = train_validate_test_split(photo_combinations)\r\n",
        "train_df.reset_index(drop = True,inplace=True)\r\n",
        "validate_df.reset_index(drop = True,inplace=True)\r\n",
        "test_df.reset_index(drop = True,inplace=True)"
      ],
      "execution_count": 8,
      "outputs": []
    },
    {
      "cell_type": "code",
      "metadata": {
        "id": "yvY-R_UdwScS"
      },
      "source": [
        "def dual_image_reshape(img1_path, img2_path):\r\n",
        "  img1 = asarray(ImageOps.grayscale(Image.open(img1_path)))\r\n",
        "  img2 = asarray(ImageOps.grayscale(Image.open(img2_path)))\r\n",
        "  return img1 - img2"
      ],
      "execution_count": 9,
      "outputs": []
    },
    {
      "cell_type": "code",
      "metadata": {
        "id": "IfLxH5vVwUbn"
      },
      "source": [
        "def get_numpy_arr(df, directory):\r\n",
        "  img_arr = []  #np.empty((224, 224), dtype='uint8')\r\n",
        "  for i in range(len(df)):\r\n",
        "    print(i)\r\n",
        "    f_name1 = df.tuples[i][0].replace(\"\\\\\",\"/\" )\r\n",
        "    path_1 = os.path.join(directory, f_name1)\r\n",
        "    f_name2 = df.tuples[i][1].replace(\"\\\\\",\"/\" )\r\n",
        "    path_2 = os.path.join(directory, f_name2)\r\n",
        "    img_arr.append(dual_image_reshape(path_1, path_2))\r\n",
        "    print('='*10)\r\n",
        "  return np.array(img_arr)"
      ],
      "execution_count": 10,
      "outputs": []
    },
    {
      "cell_type": "code",
      "metadata": {
        "id": "TlKGHUaCwa8J"
      },
      "source": [
        "directory = 'drive/MyDrive/Project_Dataset'\r\n",
        "X_train=get_numpy_arr(train_df, directory)\r\n",
        "print(\"Train done\")\r\n",
        "print('='*50)"
      ],
      "execution_count": null,
      "outputs": []
    },
    {
      "cell_type": "code",
      "metadata": {
        "id": "2nD7Z1fcweWt"
      },
      "source": [
        "X_valid=get_numpy_arr(validate_df, directory)\r\n",
        "print(\"validation done\")\r\n",
        "print('='*50)"
      ],
      "execution_count": null,
      "outputs": []
    },
    {
      "cell_type": "code",
      "metadata": {
        "id": "R4AG-CQLwiME"
      },
      "source": [
        "X_test=get_numpy_arr(test_df, directory)\r\n",
        "print(\"Test done\")\r\n",
        "print('='*50)"
      ],
      "execution_count": null,
      "outputs": []
    },
    {
      "cell_type": "code",
      "metadata": {
        "id": "4IaP5lLEwmvX"
      },
      "source": [
        "y_train=train_df['kinship'].values\r\n",
        "y_train=to_categorical(y_train, 2)\r\n",
        "y_valid=validate_df['kinship'].values\r\n",
        "y_valid=to_categorical(y_valid, 2)\r\n",
        "y_actual = test_df['kinship'].values\r\n",
        "y_actual=to_categorical(y_actual, 2)"
      ],
      "execution_count": null,
      "outputs": []
    },
    {
      "cell_type": "code",
      "metadata": {
        "id": "4woJRjNOwqet"
      },
      "source": [
        "X_train = X_train.reshape(train_df.shape[0],224,224,1).astype('float32')\r\n",
        "X_train /= 255\r\n",
        "\r\n",
        "X_valid=X_valid.reshape( validate_df.shape[0],224,224,1).astype('float32')\r\n",
        "X_valid /= 255\r\n",
        "\r\n",
        "X_test = X_test.reshape(test_df.shape[0],224,224,1).astype('float32')\r\n",
        "X_test /= 255"
      ],
      "execution_count": null,
      "outputs": []
    },
    {
      "cell_type": "code",
      "metadata": {
        "id": "ukTPIxnVw4Kt"
      },
      "source": [
        "# Layer 1 - Convolutional layer: To convert our images to inputs vectors\r\n",
        "Seven_layer_model=Sequential()\r\n",
        "Seven_layer_model.add(Conv2D(64, kernel_size=(3,3), activation='relu', input_shape=(224,224,1)))\r\n",
        "Seven_layer_model.add(Dropout(0.25))\r\n",
        "Seven_layer_model.add(Conv2D(128, kernel_size=(3,3), activation='relu'))\r\n",
        "Seven_layer_model.add(Dropout(0.25))\r\n",
        "Seven_layer_model.add(Conv2D(64, kernel_size=(3,3)))\r\n",
        "Seven_layer_model.add(Dropout(0.25))\r\n",
        "Seven_layer_model.add(AveragePooling2D(pool_size=(2,2)))\r\n",
        "Seven_layer_model.add(BatchNormalization())\r\n",
        "\r\n",
        "Seven_layer_model.add(Flatten())\r\n",
        "\r\n",
        "# Layer 2 - Dense layer: ANN \r\n",
        "Seven_layer_model.add(Dense(128, activation='relu'))\r\n",
        "Seven_layer_model.add(Dropout(0.32))\r\n",
        "Seven_layer_model.add(BatchNormalization())\r\n",
        "Seven_layer_model.add(Dense(64, activation='relu'))\r\n",
        "Seven_layer_model.add(Dropout(0.3))\r\n",
        "Seven_layer_model.add(BatchNormalization())\r\n",
        "\r\n",
        "Seven_layer_model.add(Dense(32, activation='relu'))\r\n",
        "Seven_layer_model.add(Dropout(0.2))\r\n",
        "Seven_layer_model.add(BatchNormalization())\r\n",
        "# Output Layer to 0/1\r\n",
        "Seven_layer_model.add(Dense(2, activation='sigmoid'))"
      ],
      "execution_count": null,
      "outputs": []
    },
    {
      "cell_type": "code",
      "metadata": {
        "id": "JKId7e3nxKhW"
      },
      "source": [
        "Seven_layer_model.compile(\r\n",
        "    loss='categorical_crossentropy', \r\n",
        "    optimizer='adam', \r\n",
        "    metrics=['accuracy','AUC']\r\n",
        ")"
      ],
      "execution_count": null,
      "outputs": []
    },
    {
      "cell_type": "code",
      "metadata": {
        "id": "qopxnZDuxNEv"
      },
      "source": [
        "Seven_layer_model.summary()"
      ],
      "execution_count": null,
      "outputs": []
    },
    {
      "cell_type": "code",
      "metadata": {
        "id": "-Z6fOtb-xQ1x"
      },
      "source": [
        "Seven_layer_model.fit(\r\n",
        "    X_train, \r\n",
        "    y_train, \r\n",
        "    batch_size=128, \r\n",
        "    epochs=30, \r\n",
        "    verbose=1, \r\n",
        "    validation_data=(X_valid, y_valid)\r\n",
        ")"
      ],
      "execution_count": null,
      "outputs": []
    },
    {
      "cell_type": "code",
      "metadata": {
        "id": "cjhnlO_JwFCk"
      },
      "source": [
        "Seven_layer_model.evaluate(X_test, y_actual)"
      ],
      "execution_count": null,
      "outputs": []
    }
  ]
}
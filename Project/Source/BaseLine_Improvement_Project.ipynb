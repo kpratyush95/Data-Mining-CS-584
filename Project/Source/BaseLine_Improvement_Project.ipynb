{
  "nbformat": 4,
  "nbformat_minor": 0,
  "metadata": {
    "accelerator": "GPU",
    "colab": {
      "name": "Improvement_Project.ipynb",
      "provenance": [],
      "collapsed_sections": [],
      "machine_shape": "hm"
    },
    "kernelspec": {
      "display_name": "Python 3",
      "language": "python",
      "name": "python3"
    },
    "language_info": {
      "codemirror_mode": {
        "name": "ipython",
        "version": 3
      },
      "file_extension": ".py",
      "mimetype": "text/x-python",
      "name": "python",
      "nbconvert_exporter": "python",
      "pygments_lexer": "ipython3",
      "version": "3.8.5"
    }
  },
  "cells": [
    {
      "cell_type": "code",
      "metadata": {
        "id": "c3k3TUnap37v",
        "colab": {
          "base_uri": "https://localhost:8080/"
        },
        "outputId": "1ff813ac-abf1-4697-fb11-b4a162038141"
      },
      "source": [
        "!pip install keras_vggface"
      ],
      "execution_count": null,
      "outputs": [
        {
          "output_type": "stream",
          "text": [
            "Collecting keras_vggface\n",
            "  Downloading https://files.pythonhosted.org/packages/2f/7d/5f0319ebdc09ac1a2272364fa9583f5067b6f8aff93fbbf8835d81cbaad7/keras_vggface-0.6-py3-none-any.whl\n",
            "Requirement already satisfied: six>=1.9.0 in /usr/local/lib/python3.6/dist-packages (from keras_vggface) (1.15.0)\n",
            "Requirement already satisfied: pyyaml in /usr/local/lib/python3.6/dist-packages (from keras_vggface) (3.13)\n",
            "Requirement already satisfied: h5py in /usr/local/lib/python3.6/dist-packages (from keras_vggface) (2.10.0)\n",
            "Requirement already satisfied: numpy>=1.9.1 in /usr/local/lib/python3.6/dist-packages (from keras_vggface) (1.18.5)\n",
            "Requirement already satisfied: scipy>=0.14 in /usr/local/lib/python3.6/dist-packages (from keras_vggface) (1.4.1)\n",
            "Requirement already satisfied: pillow in /usr/local/lib/python3.6/dist-packages (from keras_vggface) (7.0.0)\n",
            "Requirement already satisfied: keras in /usr/local/lib/python3.6/dist-packages (from keras_vggface) (2.4.3)\n",
            "Installing collected packages: keras-vggface\n",
            "Successfully installed keras-vggface-0.6\n"
          ],
          "name": "stdout"
        }
      ]
    },
    {
      "cell_type": "code",
      "metadata": {
        "id": "G6RWZVcDqG4s",
        "colab": {
          "base_uri": "https://localhost:8080/"
        },
        "outputId": "58276aa6-56b0-43e9-c068-d38b1bf15f83"
      },
      "source": [
        "!pip install keras_applications"
      ],
      "execution_count": null,
      "outputs": [
        {
          "output_type": "stream",
          "text": [
            "Collecting keras_applications\n",
            "\u001b[?25l  Downloading https://files.pythonhosted.org/packages/71/e3/19762fdfc62877ae9102edf6342d71b28fbfd9dea3d2f96a882ce099b03f/Keras_Applications-1.0.8-py3-none-any.whl (50kB)\n",
            "\r\u001b[K     |██████▌                         | 10kB 25.1MB/s eta 0:00:01\r\u001b[K     |█████████████                   | 20kB 31.7MB/s eta 0:00:01\r\u001b[K     |███████████████████▍            | 30kB 28.1MB/s eta 0:00:01\r\u001b[K     |█████████████████████████▉      | 40kB 19.8MB/s eta 0:00:01\r\u001b[K     |████████████████████████████████| 51kB 5.2MB/s \n",
            "\u001b[?25hRequirement already satisfied: h5py in /usr/local/lib/python3.6/dist-packages (from keras_applications) (2.10.0)\n",
            "Requirement already satisfied: numpy>=1.9.1 in /usr/local/lib/python3.6/dist-packages (from keras_applications) (1.18.5)\n",
            "Requirement already satisfied: six in /usr/local/lib/python3.6/dist-packages (from h5py->keras_applications) (1.15.0)\n",
            "Installing collected packages: keras-applications\n",
            "Successfully installed keras-applications-1.0.8\n"
          ],
          "name": "stdout"
        }
      ]
    },
    {
      "cell_type": "code",
      "metadata": {
        "colab": {
          "base_uri": "https://localhost:8080/"
        },
        "id": "FekR_mMlrh2F",
        "outputId": "e40fc5b9-4ad6-4ae0-f3a5-829c08e32022"
      },
      "source": [
        "from google.colab import drive\n",
        "drive.mount('/content/drive')"
      ],
      "execution_count": null,
      "outputs": [
        {
          "output_type": "stream",
          "text": [
            "Mounted at /content/drive\n"
          ],
          "name": "stdout"
        }
      ]
    },
    {
      "cell_type": "markdown",
      "metadata": {
        "id": "zArktipql05E"
      },
      "source": [
        "# Importing Libraries"
      ]
    },
    {
      "cell_type": "code",
      "metadata": {
        "id": "dHObAlJMOjDB"
      },
      "source": [
        "import numpy as np\n",
        "from numpy import asarray\n",
        "import pandas as pd\n",
        "import os\n",
        "from keras.optimizers import Adam\n",
        "import pickle\n",
        "import random\n",
        "from PIL import Image, ImageOps\n",
        "from collections import Counter\n",
        "import glob\n",
        "import itertools\n",
        "from tensorflow import keras\n",
        "import matplotlib.pyplot as plt\n",
        "from sklearn.model_selection import train_test_split\n",
        "import tensorflow\n",
        "from tensorflow.keras import Model\n",
        "from tensorflow.keras.datasets import mnist\n",
        "from tensorflow.keras.utils import to_categorical\n",
        "from tensorflow.keras.models import Sequential\n",
        "from tensorflow.keras.layers import Dense\n",
        "from tensorflow.keras.layers import Dropout, BatchNormalization\n",
        "from tensorflow.keras.layers import Conv2D, MaxPooling2D, Flatten, Convolution2D, AveragePooling2D\n",
        "from keras import backend as K\n",
        "from keras.callbacks import ModelCheckpoint\n",
        "from keras.layers import Input, Lambda\n",
        "from keras.models import load_model, Model\n",
        "from keras.preprocessing import image\n",
        "from keras.utils import Sequence\n",
        "from keras_vggface import utils\n",
        "from keras_vggface.vggface import VGGFace\n",
        "from sklearn.metrics import accuracy_score, roc_curve, roc_auc_score\n",
        "import tensorflow as tf\n",
        "from tensorflow.keras.layers import Dense"
      ],
      "execution_count": null,
      "outputs": []
    },
    {
      "cell_type": "code",
      "metadata": {
        "id": "IpBmAWInXAPl"
      },
      "source": [
        "photo_combinations = pd.read_csv(\"photo_combinations.csv\",converters={\"tuples\":eval})"
      ],
      "execution_count": null,
      "outputs": []
    },
    {
      "cell_type": "code",
      "metadata": {
        "colab": {
          "base_uri": "https://localhost:8080/",
          "height": 402
        },
        "id": "qQdpzgHilD-g",
        "outputId": "caa6a68f-67f0-4aec-991d-098bd3bad0d8"
      },
      "source": [
        "photo_combinations "
      ],
      "execution_count": null,
      "outputs": [
        {
          "output_type": "execute_result",
          "data": {
            "text/html": [
              "<div>\n",
              "<style scoped>\n",
              "    .dataframe tbody tr th:only-of-type {\n",
              "        vertical-align: middle;\n",
              "    }\n",
              "\n",
              "    .dataframe tbody tr th {\n",
              "        vertical-align: top;\n",
              "    }\n",
              "\n",
              "    .dataframe thead th {\n",
              "        text-align: right;\n",
              "    }\n",
              "</style>\n",
              "<table border=\"1\" class=\"dataframe\">\n",
              "  <thead>\n",
              "    <tr style=\"text-align: right;\">\n",
              "      <th></th>\n",
              "      <th>tuples</th>\n",
              "      <th>kinship</th>\n",
              "    </tr>\n",
              "  </thead>\n",
              "  <tbody>\n",
              "    <tr>\n",
              "      <th>0</th>\n",
              "      <td>(train\\F0601\\MID19\\P11910_face5.jpg, train\\F06...</td>\n",
              "      <td>0</td>\n",
              "    </tr>\n",
              "    <tr>\n",
              "      <th>1</th>\n",
              "      <td>(train\\F0601\\MID20\\P06286_face3.jpg, train\\F06...</td>\n",
              "      <td>0</td>\n",
              "    </tr>\n",
              "    <tr>\n",
              "      <th>2</th>\n",
              "      <td>(train\\F0231\\MID3\\P11185_face3.jpg, train\\F023...</td>\n",
              "      <td>1</td>\n",
              "    </tr>\n",
              "    <tr>\n",
              "      <th>3</th>\n",
              "      <td>(train\\F0601\\MID2\\P06300_face7.jpg, train\\F060...</td>\n",
              "      <td>0</td>\n",
              "    </tr>\n",
              "    <tr>\n",
              "      <th>4</th>\n",
              "      <td>(train\\F0601\\MID22\\P06243_face1.jpg, train\\F06...</td>\n",
              "      <td>0</td>\n",
              "    </tr>\n",
              "    <tr>\n",
              "      <th>...</th>\n",
              "      <td>...</td>\n",
              "      <td>...</td>\n",
              "    </tr>\n",
              "    <tr>\n",
              "      <th>422866</th>\n",
              "      <td>(train\\F0601\\MID17\\P06307_face3.jpg, train\\F06...</td>\n",
              "      <td>0</td>\n",
              "    </tr>\n",
              "    <tr>\n",
              "      <th>422867</th>\n",
              "      <td>(train\\F0601\\MID11\\P12034_face1.jpg, train\\F06...</td>\n",
              "      <td>0</td>\n",
              "    </tr>\n",
              "    <tr>\n",
              "      <th>422868</th>\n",
              "      <td>(train\\F0601\\MID19\\P11910_face5.jpg, train\\F06...</td>\n",
              "      <td>0</td>\n",
              "    </tr>\n",
              "    <tr>\n",
              "      <th>422869</th>\n",
              "      <td>(train\\F0601\\MID11\\P06242_face4.jpg, train\\F06...</td>\n",
              "      <td>0</td>\n",
              "    </tr>\n",
              "    <tr>\n",
              "      <th>422870</th>\n",
              "      <td>(train\\F0601\\MID13\\P06268_face2.jpg, train\\F06...</td>\n",
              "      <td>0</td>\n",
              "    </tr>\n",
              "  </tbody>\n",
              "</table>\n",
              "<p>422871 rows × 2 columns</p>\n",
              "</div>"
            ],
            "text/plain": [
              "                                                   tuples  kinship\n",
              "0       (train\\F0601\\MID19\\P11910_face5.jpg, train\\F06...        0\n",
              "1       (train\\F0601\\MID20\\P06286_face3.jpg, train\\F06...        0\n",
              "2       (train\\F0231\\MID3\\P11185_face3.jpg, train\\F023...        1\n",
              "3       (train\\F0601\\MID2\\P06300_face7.jpg, train\\F060...        0\n",
              "4       (train\\F0601\\MID22\\P06243_face1.jpg, train\\F06...        0\n",
              "...                                                   ...      ...\n",
              "422866  (train\\F0601\\MID17\\P06307_face3.jpg, train\\F06...        0\n",
              "422867  (train\\F0601\\MID11\\P12034_face1.jpg, train\\F06...        0\n",
              "422868  (train\\F0601\\MID19\\P11910_face5.jpg, train\\F06...        0\n",
              "422869  (train\\F0601\\MID11\\P06242_face4.jpg, train\\F06...        0\n",
              "422870  (train\\F0601\\MID13\\P06268_face2.jpg, train\\F06...        0\n",
              "\n",
              "[422871 rows x 2 columns]"
            ]
          },
          "metadata": {
            "tags": []
          },
          "execution_count": 6
        }
      ]
    },
    {
      "cell_type": "code",
      "metadata": {
        "id": "53I3jfRL7bfX"
      },
      "source": [
        "photo_combinations = photo_combinations.sample(frac = 0.59119684253590338424720541252533)"
      ],
      "execution_count": null,
      "outputs": []
    },
    {
      "cell_type": "code",
      "metadata": {
        "colab": {
          "base_uri": "https://localhost:8080/",
          "height": 402
        },
        "id": "pZly9g7c7l1w",
        "outputId": "97c1a01c-b447-4904-bdf8-122ba90529aa"
      },
      "source": [
        "photo_combinations.reset_index(drop = True,inplace=True)\n",
        "photo_combinations"
      ],
      "execution_count": null,
      "outputs": [
        {
          "output_type": "execute_result",
          "data": {
            "text/html": [
              "<div>\n",
              "<style scoped>\n",
              "    .dataframe tbody tr th:only-of-type {\n",
              "        vertical-align: middle;\n",
              "    }\n",
              "\n",
              "    .dataframe tbody tr th {\n",
              "        vertical-align: top;\n",
              "    }\n",
              "\n",
              "    .dataframe thead th {\n",
              "        text-align: right;\n",
              "    }\n",
              "</style>\n",
              "<table border=\"1\" class=\"dataframe\">\n",
              "  <thead>\n",
              "    <tr style=\"text-align: right;\">\n",
              "      <th></th>\n",
              "      <th>tuples</th>\n",
              "      <th>kinship</th>\n",
              "    </tr>\n",
              "  </thead>\n",
              "  <tbody>\n",
              "    <tr>\n",
              "      <th>0</th>\n",
              "      <td>(train\\F0664\\MID1\\P12403_face.jpg, train\\F0664...</td>\n",
              "      <td>1</td>\n",
              "    </tr>\n",
              "    <tr>\n",
              "      <th>1</th>\n",
              "      <td>(train\\F0064\\MID1\\P00652_face2.jpg, train\\F006...</td>\n",
              "      <td>0</td>\n",
              "    </tr>\n",
              "    <tr>\n",
              "      <th>2</th>\n",
              "      <td>(train\\F0601\\MID12\\P12032_face1.jpg, train\\F06...</td>\n",
              "      <td>0</td>\n",
              "    </tr>\n",
              "    <tr>\n",
              "      <th>3</th>\n",
              "      <td>(train\\F0601\\MID19\\P11996_face3.jpg, train\\F06...</td>\n",
              "      <td>0</td>\n",
              "    </tr>\n",
              "    <tr>\n",
              "      <th>4</th>\n",
              "      <td>(train\\F0486\\MID1\\P05118_face2.jpg, train\\F048...</td>\n",
              "      <td>0</td>\n",
              "    </tr>\n",
              "    <tr>\n",
              "      <th>...</th>\n",
              "      <td>...</td>\n",
              "      <td>...</td>\n",
              "    </tr>\n",
              "    <tr>\n",
              "      <th>249995</th>\n",
              "      <td>(train\\F0601\\MID15\\P06300_face9.jpg, train\\F06...</td>\n",
              "      <td>0</td>\n",
              "    </tr>\n",
              "    <tr>\n",
              "      <th>249996</th>\n",
              "      <td>(train\\F0390\\MID4\\P04133_face2.jpg, train\\F039...</td>\n",
              "      <td>1</td>\n",
              "    </tr>\n",
              "    <tr>\n",
              "      <th>249997</th>\n",
              "      <td>(train\\F0601\\MID1\\P06296_face1.jpg, train\\F060...</td>\n",
              "      <td>0</td>\n",
              "    </tr>\n",
              "    <tr>\n",
              "      <th>249998</th>\n",
              "      <td>(train\\F0601\\MID11\\P06248_face1.jpg, train\\F06...</td>\n",
              "      <td>0</td>\n",
              "    </tr>\n",
              "    <tr>\n",
              "      <th>249999</th>\n",
              "      <td>(train\\F0601\\MID33\\P11960_face2.jpg, train\\F06...</td>\n",
              "      <td>0</td>\n",
              "    </tr>\n",
              "  </tbody>\n",
              "</table>\n",
              "<p>250000 rows × 2 columns</p>\n",
              "</div>"
            ],
            "text/plain": [
              "                                                   tuples  kinship\n",
              "0       (train\\F0664\\MID1\\P12403_face.jpg, train\\F0664...        1\n",
              "1       (train\\F0064\\MID1\\P00652_face2.jpg, train\\F006...        0\n",
              "2       (train\\F0601\\MID12\\P12032_face1.jpg, train\\F06...        0\n",
              "3       (train\\F0601\\MID19\\P11996_face3.jpg, train\\F06...        0\n",
              "4       (train\\F0486\\MID1\\P05118_face2.jpg, train\\F048...        0\n",
              "...                                                   ...      ...\n",
              "249995  (train\\F0601\\MID15\\P06300_face9.jpg, train\\F06...        0\n",
              "249996  (train\\F0390\\MID4\\P04133_face2.jpg, train\\F039...        1\n",
              "249997  (train\\F0601\\MID1\\P06296_face1.jpg, train\\F060...        0\n",
              "249998  (train\\F0601\\MID11\\P06248_face1.jpg, train\\F06...        0\n",
              "249999  (train\\F0601\\MID33\\P11960_face2.jpg, train\\F06...        0\n",
              "\n",
              "[250000 rows x 2 columns]"
            ]
          },
          "metadata": {
            "tags": []
          },
          "execution_count": 8
        }
      ]
    },
    {
      "cell_type": "code",
      "metadata": {
        "colab": {
          "base_uri": "https://localhost:8080/"
        },
        "id": "IDfqQpSpuP6z",
        "outputId": "b9956909-b444-4114-e1c7-640b29fd0579"
      },
      "source": [
        "photo_combinations.kinship.value_counts()"
      ],
      "execution_count": null,
      "outputs": [
        {
          "output_type": "execute_result",
          "data": {
            "text/plain": [
              "0    156816\n",
              "1     93184\n",
              "Name: kinship, dtype: int64"
            ]
          },
          "metadata": {
            "tags": []
          },
          "execution_count": 9
        }
      ]
    },
    {
      "cell_type": "code",
      "metadata": {
        "id": "I7r4p8c64MNn"
      },
      "source": [
        "directory = 'drive/MyDrive/Project_Dataset'"
      ],
      "execution_count": null,
      "outputs": []
    },
    {
      "cell_type": "markdown",
      "metadata": {
        "id": "lNOYl2Gfk0hX"
      },
      "source": [
        "# Create Test and Train data"
      ]
    },
    {
      "cell_type": "code",
      "metadata": {
        "id": "Tv_ymeJDHP_2"
      },
      "source": [
        "def train_validate_test_split(df,seed= 2018, train_percent=.80, validation_percent = 0.125):\n",
        "  train, test = train_test_split(df, train_size=train_percent, stratify=df['kinship'])\n",
        "  train,validate = train_test_split(train, test_size=validation_percent, stratify=train['kinship'])\n",
        "  return train, validate, test"
      ],
      "execution_count": null,
      "outputs": []
    },
    {
      "cell_type": "code",
      "metadata": {
        "id": "rpFio23HHe-f"
      },
      "source": [
        "train_df, validate_df, test_df = train_validate_test_split(photo_combinations)"
      ],
      "execution_count": null,
      "outputs": []
    },
    {
      "cell_type": "code",
      "metadata": {
        "colab": {
          "base_uri": "https://localhost:8080/"
        },
        "id": "Kqbp-BuLJhLW",
        "outputId": "9f20c720-d719-4889-a646-22f305333a9d"
      },
      "source": [
        "train_df.shape, validate_df.shape, test_df.shape "
      ],
      "execution_count": null,
      "outputs": [
        {
          "output_type": "execute_result",
          "data": {
            "text/plain": [
              "((175000, 2), (25000, 2), (50000, 2))"
            ]
          },
          "metadata": {
            "tags": []
          },
          "execution_count": 17
        }
      ]
    },
    {
      "cell_type": "code",
      "metadata": {
        "colab": {
          "base_uri": "https://localhost:8080/"
        },
        "id": "5JzEYDFPoxE9",
        "outputId": "682a1e7a-5806-455d-f7f4-73d33bdcd746"
      },
      "source": [
        "train_df.kinship.value_counts(), validate_df.kinship.value_counts(), test_df.kinship.value_counts()"
      ],
      "execution_count": null,
      "outputs": [
        {
          "output_type": "execute_result",
          "data": {
            "text/plain": [
              "(0    109771\n",
              " 1     65229\n",
              " Name: kinship, dtype: int64, 0    15682\n",
              " 1     9318\n",
              " Name: kinship, dtype: int64, 0    31363\n",
              " 1    18637\n",
              " Name: kinship, dtype: int64)"
            ]
          },
          "metadata": {
            "tags": []
          },
          "execution_count": 18
        }
      ]
    },
    {
      "cell_type": "code",
      "metadata": {
        "id": "KjgUnBHXK6rB"
      },
      "source": [
        "train_df.reset_index(drop = True,inplace=True)\n",
        "validate_df.reset_index(drop = True,inplace=True)\n",
        "test_df.reset_index(drop = True,inplace=True)"
      ],
      "execution_count": null,
      "outputs": []
    },
    {
      "cell_type": "markdown",
      "metadata": {
        "id": "CSV6zgO1CG6X"
      },
      "source": [
        "###VGG model on top of Resnet 50"
      ]
    },
    {
      "cell_type": "code",
      "metadata": {
        "id": "XTXdal6JCK2k"
      },
      "source": [
        "def Vgg_50_model():\n",
        "    base_model = VGGFace(model = 'resnet50', include_top = False, input_shape = (224, 224, 3), pooling = 'avg')\n",
        "    \n",
        "    for x in base_model.layers:\n",
        "        x.trainable = False\n",
        "\n",
        "    input_1 = Input(shape = (224, 224, 3))\n",
        "    input_2 = Input(shape = (224, 224, 3))\n",
        "\n",
        "    x1 = base_model(input_1)\n",
        "    x2 = base_model(input_2)\n",
        "    \n",
        "    L1_layer = Lambda(lambda tensor: K.abs(tensor[0] - tensor[1]))\n",
        "    \n",
        "    x = L1_layer([x1, x2])\n",
        "    \n",
        "    class1 = Dense(1024, activation = 'relu')(x)\n",
        "    class1 = Dropout(0.20)(class1)\n",
        "    class2 = Dense(256, activation = 'relu')(class1)\n",
        "    class2 = Dropout(0.20)(class2)\n",
        "    out = Dense(1, activation = 'sigmoid')(class2)\n",
        "\n",
        "    model = Model([input_1, input_2], out)\n",
        "    \n",
        "    model.compile(loss = 'binary_crossentropy', metrics = ['mse', 'acc', auroc], optimizer = Adam(0.00001))\n",
        "    \n",
        "    model.summary()\n",
        "    \n",
        "    return model"
      ],
      "execution_count": null,
      "outputs": []
    },
    {
      "cell_type": "code",
      "metadata": {
        "id": "MTmWPPG2CYxL"
      },
      "source": [
        "def pre_proc(image_path):\n",
        "    directory = 'drive/MyDrive/Project_Dataset'\n",
        "    f_name1 = image_path.replace(\"\\\\\",\"/\" )\n",
        "    image_path = os.path.join(directory, f_name1)\n",
        "    img = image.load_img(image_path, target_size=(224, 224))\n",
        "    img = image.img_to_array(img)\n",
        "    img = np.expand_dims(img, axis=0)\n",
        "    img = utils.preprocess_input(img, version = 2)\n",
        "    return img"
      ],
      "execution_count": null,
      "outputs": []
    },
    {
      "cell_type": "code",
      "metadata": {
        "id": "eGDyoKiF3MM9"
      },
      "source": [
        "def auroc(y_true, y_pred):\r\n",
        "    return tf.py_function(roc_auc_score, (y_true, y_pred), tf.double)"
      ],
      "execution_count": null,
      "outputs": []
    },
    {
      "cell_type": "code",
      "metadata": {
        "id": "koLnwR1tCamy"
      },
      "source": [
        "class generator(Sequence):\n",
        "\n",
        "    def __init__(self, data, batch_size, validation = False, prediction = False):\n",
        "        self.x = data.tuples\n",
        "        self.x0 = [x[0] for x in self.x]\n",
        "        self.x1 = [x[1] for x in self.x]\n",
        "        self.y = data.kinship\n",
        "        self.batch_size = batch_size\n",
        "        self.len = self.__len__()\n",
        "        self.validation = validation\n",
        "        self.prediction = prediction\n",
        "\n",
        "    def __len__(self):\n",
        "        return int(np.ceil(len(self.x) / float(self.batch_size)))\n",
        "\n",
        "    def __getitem__(self, idx):\n",
        "        if self.validation or self.prediction:\n",
        "            print('Validation/prediction batch {} of {}'.format(idx+1, self.len), end = '\\r')\n",
        "        batch0 = self.x0[idx*self.batch_size:(idx+1)*self.batch_size]\n",
        "        batch0 = np.array([pre_proc(x) for x in batch0]).squeeze(1)\n",
        "        batch1 = self.x1[idx*self.batch_size:(idx+1)*self.batch_size]\n",
        "        batch1 = np.array([pre_proc(x) for x in batch1]).squeeze(1)\n",
        "        kinship_batch = self.y[idx*self.batch_size:(idx+1)*self.batch_size]\n",
        "        kinship_batch = np.array([np.array(target, ndmin = 1) for target in kinship_batch])\n",
        "        if not self.prediction:\n",
        "            return ([batch0, batch1], kinship_batch)\n",
        "        else:\n",
        "            return([batch0, batch1])"
      ],
      "execution_count": null,
      "outputs": []
    },
    {
      "cell_type": "code",
      "metadata": {
        "id": "PleWbIOKCdCC"
      },
      "source": [
        "batch_size = 150 \n",
        "EPOCHS = 10"
      ],
      "execution_count": null,
      "outputs": []
    },
    {
      "cell_type": "code",
      "metadata": {
        "colab": {
          "base_uri": "https://localhost:8080/"
        },
        "id": "RIDHq1zqCevh",
        "outputId": "d68d133d-9baa-41a2-cb40-ad53db11801d"
      },
      "source": [
        "vgg_50model = Vgg_50_model()\n",
        "gen = generator(train_df, batch_size)\n",
        "gen_val = generator(validate_df, batch_size, validation = True)"
      ],
      "execution_count": null,
      "outputs": [
        {
          "output_type": "stream",
          "text": [
            "Model: \"functional_7\"\n",
            "__________________________________________________________________________________________________\n",
            "Layer (type)                    Output Shape         Param #     Connected to                     \n",
            "==================================================================================================\n",
            "input_11 (InputLayer)           [(None, 224, 224, 3) 0                                            \n",
            "__________________________________________________________________________________________________\n",
            "input_12 (InputLayer)           [(None, 224, 224, 3) 0                                            \n",
            "__________________________________________________________________________________________________\n",
            "vggface_resnet50 (Functional)   (None, 2048)         23561152    input_11[0][0]                   \n",
            "                                                                 input_12[0][0]                   \n",
            "__________________________________________________________________________________________________\n",
            "lambda_3 (Lambda)               (None, 2048)         0           vggface_resnet50[0][0]           \n",
            "                                                                 vggface_resnet50[1][0]           \n",
            "__________________________________________________________________________________________________\n",
            "dense_9 (Dense)                 (None, 1024)         2098176     lambda_3[0][0]                   \n",
            "__________________________________________________________________________________________________\n",
            "dropout_6 (Dropout)             (None, 1024)         0           dense_9[0][0]                    \n",
            "__________________________________________________________________________________________________\n",
            "dense_10 (Dense)                (None, 256)          262400      dropout_6[0][0]                  \n",
            "__________________________________________________________________________________________________\n",
            "dropout_7 (Dropout)             (None, 256)          0           dense_10[0][0]                   \n",
            "__________________________________________________________________________________________________\n",
            "dense_11 (Dense)                (None, 1)            257         dropout_7[0][0]                  \n",
            "==================================================================================================\n",
            "Total params: 25,921,985\n",
            "Trainable params: 2,360,833\n",
            "Non-trainable params: 23,561,152\n",
            "__________________________________________________________________________________________________\n"
          ],
          "name": "stdout"
        }
      ]
    },
    {
      "cell_type": "code",
      "metadata": {
        "id": "aZxqx-nYCvrd"
      },
      "source": [
        "checkpoint = ModelCheckpoint('checkpoint_faces.h5', monitor = 'val_auroc', verbose = 1, save_best_only = True, mode = 'max')\n",
        "callbacks_list = [checkpoint]"
      ],
      "execution_count": null,
      "outputs": []
    },
    {
      "cell_type": "code",
      "metadata": {
        "colab": {
          "base_uri": "https://localhost:8080/"
        },
        "id": "wltV7OzLCy3S",
        "outputId": "f4f7b13a-e54f-418e-d572-525bbf3525c1"
      },
      "source": [
        "history = vgg_50model.fit_generator(gen, epochs = EPOCHS, validation_data = gen_val, callbacks = callbacks_list, verbose = 1, shuffle = True)"
      ],
      "execution_count": null,
      "outputs": [
        {
          "output_type": "stream",
          "text": [
            "Epoch 1/10\n",
            "\n",
            "Epoch 00001: val_auroc improved from -inf to 0.88220, saving model to checkpoint_faces.h5\n",
            "1167/1167 [==============================] - 7832s 7s/step - loss: 0.6446 - mse: 0.2054 - acc: 0.7054 - auroc: 0.7529 - val_loss: 0.4241 - val_mse: 0.1365 - val_acc: 0.8023 - val_auroc: 0.8822\n",
            "Epoch 2/10\n",
            "\n",
            "Epoch 00002: val_auroc improved from 0.88220 to 0.92922, saving model to checkpoint_faces.h5\n",
            "1167/1167 [==============================] - 1204s 1s/step - loss: 0.4317 - mse: 0.1402 - acc: 0.7962 - auroc: 0.8720 - val_loss: 0.3386 - val_mse: 0.1058 - val_acc: 0.8512 - val_auroc: 0.9292\n",
            "Epoch 3/10\n",
            "\n",
            "Epoch 00003: val_auroc improved from 0.92922 to 0.95019, saving model to checkpoint_faces.h5\n",
            "1167/1167 [==============================] - 1159s 993ms/step - loss: 0.3547 - mse: 0.1126 - acc: 0.8396 - auroc: 0.9160 - val_loss: 0.2857 - val_mse: 0.0876 - val_acc: 0.8800 - val_auroc: 0.9502\n",
            "Epoch 4/10\n",
            "\n",
            "Epoch 00004: val_auroc improved from 0.95019 to 0.96272, saving model to checkpoint_faces.h5\n",
            "1167/1167 [==============================] - 1158s 992ms/step - loss: 0.3020 - mse: 0.0943 - acc: 0.8670 - auroc: 0.9402 - val_loss: 0.2461 - val_mse: 0.0743 - val_acc: 0.8988 - val_auroc: 0.9627\n",
            "Epoch 5/10\n",
            "\n",
            "Epoch 00005: val_auroc improved from 0.96272 to 0.97047, saving model to checkpoint_faces.h5\n",
            "1167/1167 [==============================] - 1142s 979ms/step - loss: 0.2642 - mse: 0.0813 - acc: 0.8868 - auroc: 0.9545 - val_loss: 0.2191 - val_mse: 0.0652 - val_acc: 0.9139 - val_auroc: 0.9705\n",
            "Epoch 6/10\n",
            "\n",
            "Epoch 00006: val_auroc improved from 0.97047 to 0.97568, saving model to checkpoint_faces.h5\n",
            "1167/1167 [==============================] - 1164s 997ms/step - loss: 0.2331 - mse: 0.0708 - acc: 0.9026 - auroc: 0.9649 - val_loss: 0.1980 - val_mse: 0.0586 - val_acc: 0.9217 - val_auroc: 0.9757\n",
            "Epoch 7/10\n",
            "\n",
            "Epoch 00007: val_auroc improved from 0.97568 to 0.97992, saving model to checkpoint_faces.h5\n",
            "1167/1167 [==============================] - 1085s 930ms/step - loss: 0.2086 - mse: 0.0627 - acc: 0.9151 - auroc: 0.9721 - val_loss: 0.1799 - val_mse: 0.0529 - val_acc: 0.9282 - val_auroc: 0.9799\n",
            "Epoch 8/10\n",
            "\n",
            "Epoch 00008: val_auroc improved from 0.97992 to 0.98288, saving model to checkpoint_faces.h5\n",
            "1167/1167 [==============================] - 1081s 926ms/step - loss: 0.1866 - mse: 0.0554 - acc: 0.9252 - auroc: 0.9778 - val_loss: 0.1649 - val_mse: 0.0483 - val_acc: 0.9356 - val_auroc: 0.9829\n",
            "Epoch 9/10\n",
            "\n",
            "Epoch 00009: val_auroc improved from 0.98288 to 0.98546, saving model to checkpoint_faces.h5\n",
            "1167/1167 [==============================] - 1126s 965ms/step - loss: 0.1691 - mse: 0.0499 - acc: 0.9328 - auroc: 0.9818 - val_loss: 0.1527 - val_mse: 0.0444 - val_acc: 0.9420 - val_auroc: 0.9855\n",
            "Epoch 10/10\n",
            "\n",
            "Epoch 00010: val_auroc improved from 0.98546 to 0.98732, saving model to checkpoint_faces.h5\n",
            "1167/1167 [==============================] - 1122s 962ms/step - loss: 0.1522 - mse: 0.0444 - acc: 0.9407 - auroc: 0.9854 - val_loss: 0.1417 - val_mse: 0.0412 - val_acc: 0.9443 - val_auroc: 0.9873\n"
          ],
          "name": "stdout"
        }
      ]
    },
    {
      "cell_type": "code",
      "metadata": {
        "id": "kA9tzGxNC2rJ"
      },
      "source": [
        "vgg_50model = load_model('checkpoint_faces.h5', custom_objects = {'auroc' : auroc})"
      ],
      "execution_count": null,
      "outputs": []
    },
    {
      "cell_type": "code",
      "metadata": {
        "colab": {
          "base_uri": "https://localhost:8080/"
        },
        "id": "Q4FdX4dKC7L9",
        "outputId": "bf496124-31cb-48c8-a0f8-f1ddec1bfaf3"
      },
      "source": [
        "gen_test = generator(test_df, batch_size, prediction = True)\n",
        "y_pred_vgg_50 = vgg_50model.predict_generator(gen_test)"
      ],
      "execution_count": null,
      "outputs": [
        {
          "output_type": "stream",
          "text": [
            "WARNING:tensorflow:From <ipython-input-51-dc28172782b9>:2: Model.predict_generator (from tensorflow.python.keras.engine.training) is deprecated and will be removed in a future version.\n",
            "Instructions for updating:\n",
            "Please use Model.predict, which supports generators.\n"
          ],
          "name": "stdout"
        }
      ]
    },
    {
      "cell_type": "code",
      "metadata": {
        "colab": {
          "base_uri": "https://localhost:8080/"
        },
        "id": "8YEqxPvfC-Dw",
        "outputId": "13895cf4-5843-4267-fcf3-432a7ef0dfcd"
      },
      "source": [
        "print('Accuracy : {:.2%}'.format(accuracy_score([int(x) for x in test_df.kinship], [np.round(x) for x in y_pred_vgg_50])))\n",
        "print('AUC : {:.2%}'.format(roc_auc_score([int(x) for x in test_df.kinship], y_pred_vgg_50)))"
      ],
      "execution_count": null,
      "outputs": [
        {
          "output_type": "stream",
          "text": [
            "Accuracy : 94.62%\n",
            "AUC : 98.73%\n"
          ],
          "name": "stdout"
        }
      ]
    },
    {
      "cell_type": "code",
      "metadata": {
        "id": "h_RdVBgD3Cfi"
      },
      "source": [
        ""
      ],
      "execution_count": null,
      "outputs": []
    }
  ]
}